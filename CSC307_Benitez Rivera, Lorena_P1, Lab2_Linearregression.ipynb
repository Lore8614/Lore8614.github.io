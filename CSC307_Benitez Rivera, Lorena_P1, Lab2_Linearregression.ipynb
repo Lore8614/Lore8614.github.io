{
  "nbformat": 4,
  "nbformat_minor": 0,
  "metadata": {
    "colab": {
      "name": "Linearregression.ipynb",
      "provenance": [],
      "collapsed_sections": [],
      "include_colab_link": true
    },
    "kernelspec": {
      "display_name": "Python 3",
      "name": "python3"
    }
  },
  "cells": [
    {
      "cell_type": "markdown",
      "metadata": {
        "id": "view-in-github",
        "colab_type": "text"
      },
      "source": [
        "<a href=\"https://colab.research.google.com/github/Lore8614/Lore8614.github.io/blob/master/CSC307_Benitez%20Rivera%2C%20Lorena_P1%2C%20Lab2_Linearregression.ipynb\" target=\"_parent\"><img src=\"https://colab.research.google.com/assets/colab-badge.svg\" alt=\"Open In Colab\"/></a>"
      ]
    },
    {
      "cell_type": "markdown",
      "metadata": {
        "id": "FhGuhbZ6M5tl",
        "colab_type": "text"
      },
      "source": [
        "##### Copyright 2018 The TensorFlow Authors."
      ]
    },
    {
      "cell_type": "code",
      "metadata": {
        "cellView": "form",
        "id": "AwOEIRJC6Une",
        "colab_type": "code",
        "colab": {}
      },
      "source": [
        "#@title Licensed under the Apache License, Version 2.0 (the \"License\");\n",
        "# you may not use this file except in compliance with the License.\n",
        "# You may obtain a copy of the License at\n",
        "#\n",
        "# https://www.apache.org/licenses/LICENSE-2.0\n",
        "#\n",
        "# Unless required by applicable law or agreed to in writing, software\n",
        "# distributed under the License is distributed on an \"AS IS\" BASIS,\n",
        "# WITHOUT WARRANTIES OR CONDITIONS OF ANY KIND, either express or implied.\n",
        "# See the License for the specific language governing permissions and\n",
        "# limitations under the License."
      ],
      "execution_count": null,
      "outputs": []
    },
    {
      "cell_type": "code",
      "metadata": {
        "cellView": "form",
        "id": "KyPEtTqk6VdG",
        "colab_type": "code",
        "colab": {}
      },
      "source": [
        "#@title MIT License\n",
        "#\n",
        "# Copyright (c) 2017 François Chollet\n",
        "#\n",
        "# Permission is hereby granted, free of charge, to any person obtaining a\n",
        "# copy of this software and associated documentation files (the \"Software\"),\n",
        "# to deal in the Software without restriction, including without limitation\n",
        "# the rights to use, copy, modify, merge, publish, distribute, sublicense,\n",
        "# and/or sell copies of the Software, and to permit persons to whom the\n",
        "# Software is furnished to do so, subject to the following conditions:\n",
        "#\n",
        "# The above copyright notice and this permission notice shall be included in\n",
        "# all copies or substantial portions of the Software.\n",
        "#\n",
        "# THE SOFTWARE IS PROVIDED \"AS IS\", WITHOUT WARRANTY OF ANY KIND, EXPRESS OR\n",
        "# IMPLIED, INCLUDING BUT NOT LIMITED TO THE WARRANTIES OF MERCHANTABILITY,\n",
        "# FITNESS FOR A PARTICULAR PURPOSE AND NONINFRINGEMENT. IN NO EVENT SHALL\n",
        "# THE AUTHORS OR COPYRIGHT HOLDERS BE LIABLE FOR ANY CLAIM, DAMAGES OR OTHER\n",
        "# LIABILITY, WHETHER IN AN ACTION OF CONTRACT, TORT OR OTHERWISE, ARISING\n",
        "# FROM, OUT OF OR IN CONNECTION WITH THE SOFTWARE OR THE USE OR OTHER\n",
        "# DEALINGS IN THE SOFTWARE."
      ],
      "execution_count": null,
      "outputs": []
    },
    {
      "cell_type": "markdown",
      "metadata": {
        "id": "EIdT9iu_Z4Rb",
        "colab_type": "text"
      },
      "source": [
        "# Basic regression: Predict fuel efficiency"
      ]
    },
    {
      "cell_type": "markdown",
      "metadata": {
        "id": "bBIlTPscrIT9",
        "colab_type": "text"
      },
      "source": [
        "<table class=\"tfo-notebook-buttons\" align=\"left\">\n",
        "  <td>\n",
        "    <a target=\"_blank\" href=\"https://www.tensorflow.org/tutorials/keras/regression\"><img src=\"https://www.tensorflow.org/images/tf_logo_32px.png\" />View on TensorFlow.org</a>\n",
        "  </td>\n",
        "  <td>\n",
        "    <a target=\"_blank\" href=\"https://colab.research.google.com/github/tensorflow/docs/blob/master/site/en/tutorials/keras/regression.ipynb\"><img src=\"https://www.tensorflow.org/images/colab_logo_32px.png\" />Run in Google Colab</a>\n",
        "  </td>\n",
        "  <td>\n",
        "    <a target=\"_blank\" href=\"https://github.com/tensorflow/docs/blob/master/site/en/tutorials/keras/regression.ipynb\"><img src=\"https://www.tensorflow.org/images/GitHub-Mark-32px.png\" />View source on GitHub</a>\n",
        "  </td>\n",
        "  <td>\n",
        "    <a href=\"https://storage.googleapis.com/tensorflow_docs/docs/site/en/tutorials/keras/regression.ipynb\"><img src=\"https://www.tensorflow.org/images/download_logo_32px.png\" />Download notebook</a>\n",
        "  </td>\n",
        "</table>"
      ]
    },
    {
      "cell_type": "markdown",
      "metadata": {
        "id": "AHp3M9ZmrIxj",
        "colab_type": "text"
      },
      "source": [
        "In a *regression* problem, we aim to predict the output of a continuous value, like a price or a probability. Contrast this with a *classification* problem, where we aim to select a class from a list of classes (for example, where a picture contains an apple or an orange, recognizing which fruit is in the picture).\n",
        "\n",
        "This notebook uses the classic [Auto MPG](https://archive.ics.uci.edu/ml/datasets/auto+mpg) Dataset and builds a model to predict the fuel efficiency of late-1970s and early 1980s automobiles. To do this, we'll provide the model with a description of many automobiles from that time period. This description includes attributes like: cylinders, displacement, horsepower, and weight.\n",
        "\n",
        "This example uses the `tf.keras` API, see [this guide](https://www.tensorflow.org/guide/keras) for details."
      ]
    },
    {
      "cell_type": "code",
      "metadata": {
        "id": "moB4tpEHxKB3",
        "colab_type": "code",
        "colab": {
          "base_uri": "https://localhost:8080/",
          "height": 479
        },
        "outputId": "38b6f1ac-7b47-409d-8f02-b235cf997e21"
      },
      "source": [
        "# Use seaborn for pairplot\n",
        "!pip install seaborn\n",
        "\n",
        "# Use some functions from tensorflow_docs\n",
        "!pip install git+https://github.com/tensorflow/docs"
      ],
      "execution_count": null,
      "outputs": [
        {
          "output_type": "stream",
          "text": [
            "Requirement already satisfied: seaborn in /usr/local/lib/python3.6/dist-packages (0.10.1)\n",
            "Requirement already satisfied: scipy>=1.0.1 in /usr/local/lib/python3.6/dist-packages (from seaborn) (1.4.1)\n",
            "Requirement already satisfied: matplotlib>=2.1.2 in /usr/local/lib/python3.6/dist-packages (from seaborn) (3.2.2)\n",
            "Requirement already satisfied: pandas>=0.22.0 in /usr/local/lib/python3.6/dist-packages (from seaborn) (1.0.5)\n",
            "Requirement already satisfied: numpy>=1.13.3 in /usr/local/lib/python3.6/dist-packages (from seaborn) (1.18.5)\n",
            "Requirement already satisfied: pyparsing!=2.0.4,!=2.1.2,!=2.1.6,>=2.0.1 in /usr/local/lib/python3.6/dist-packages (from matplotlib>=2.1.2->seaborn) (2.4.7)\n",
            "Requirement already satisfied: kiwisolver>=1.0.1 in /usr/local/lib/python3.6/dist-packages (from matplotlib>=2.1.2->seaborn) (1.2.0)\n",
            "Requirement already satisfied: python-dateutil>=2.1 in /usr/local/lib/python3.6/dist-packages (from matplotlib>=2.1.2->seaborn) (2.8.1)\n",
            "Requirement already satisfied: cycler>=0.10 in /usr/local/lib/python3.6/dist-packages (from matplotlib>=2.1.2->seaborn) (0.10.0)\n",
            "Requirement already satisfied: pytz>=2017.2 in /usr/local/lib/python3.6/dist-packages (from pandas>=0.22.0->seaborn) (2018.9)\n",
            "Requirement already satisfied: six>=1.5 in /usr/local/lib/python3.6/dist-packages (from python-dateutil>=2.1->matplotlib>=2.1.2->seaborn) (1.15.0)\n",
            "Collecting git+https://github.com/tensorflow/docs\n",
            "  Cloning https://github.com/tensorflow/docs to /tmp/pip-req-build-492dos42\n",
            "  Running command git clone -q https://github.com/tensorflow/docs /tmp/pip-req-build-492dos42\n",
            "Requirement already satisfied (use --upgrade to upgrade): tensorflow-docs===0.0.06683d008f20927116a917c28a05a6cd470e5d691- from git+https://github.com/tensorflow/docs in /usr/local/lib/python3.6/dist-packages\n",
            "Requirement already satisfied: astor in /usr/local/lib/python3.6/dist-packages (from tensorflow-docs===0.0.06683d008f20927116a917c28a05a6cd470e5d691-) (0.8.1)\n",
            "Requirement already satisfied: absl-py in /usr/local/lib/python3.6/dist-packages (from tensorflow-docs===0.0.06683d008f20927116a917c28a05a6cd470e5d691-) (0.10.0)\n",
            "Requirement already satisfied: protobuf in /usr/local/lib/python3.6/dist-packages (from tensorflow-docs===0.0.06683d008f20927116a917c28a05a6cd470e5d691-) (3.12.4)\n",
            "Requirement already satisfied: pyyaml in /usr/local/lib/python3.6/dist-packages (from tensorflow-docs===0.0.06683d008f20927116a917c28a05a6cd470e5d691-) (3.13)\n",
            "Requirement already satisfied: six in /usr/local/lib/python3.6/dist-packages (from absl-py->tensorflow-docs===0.0.06683d008f20927116a917c28a05a6cd470e5d691-) (1.15.0)\n",
            "Requirement already satisfied: setuptools in /usr/local/lib/python3.6/dist-packages (from protobuf->tensorflow-docs===0.0.06683d008f20927116a917c28a05a6cd470e5d691-) (50.3.0)\n",
            "Building wheels for collected packages: tensorflow-docs\n",
            "  Building wheel for tensorflow-docs (setup.py) ... \u001b[?25l\u001b[?25hdone\n",
            "  Created wheel for tensorflow-docs: filename=tensorflow_docs-0.0.06683d008f20927116a917c28a05a6cd470e5d691_-cp36-none-any.whl size=143892 sha256=5985abc557d3eb8bea668bc8aaecea40287bf9556d57cb5ca2d2f021afd6e200\n",
            "  Stored in directory: /tmp/pip-ephem-wheel-cache-nxuzx1is/wheels/eb/1b/35/fce87697be00d2fc63e0b4b395b0d9c7e391a10e98d9a0d97f\n",
            "Successfully built tensorflow-docs\n"
          ],
          "name": "stdout"
        }
      ]
    },
    {
      "cell_type": "code",
      "metadata": {
        "id": "1rRo8oNqZ-Rj",
        "colab_type": "code",
        "colab": {}
      },
      "source": [
        "import pathlib\n",
        "\n",
        "import matplotlib.pyplot as plt\n",
        "import numpy as np\n",
        "import pandas as pd\n",
        "import seaborn as sns"
      ],
      "execution_count": null,
      "outputs": []
    },
    {
      "cell_type": "code",
      "metadata": {
        "id": "9xQKvCJ85kCQ",
        "colab_type": "code",
        "colab": {
          "base_uri": "https://localhost:8080/",
          "height": 34
        },
        "outputId": "1d991038-fba5-4deb-b8b7-119e5602bd76"
      },
      "source": [
        "import tensorflow as tf\n",
        "\n",
        "from tensorflow import keras\n",
        "from tensorflow.keras import layers\n",
        "\n",
        "print(tf.__version__)"
      ],
      "execution_count": null,
      "outputs": [
        {
          "output_type": "stream",
          "text": [
            "2.3.0\n"
          ],
          "name": "stdout"
        }
      ]
    },
    {
      "cell_type": "code",
      "metadata": {
        "id": "Qz4HfsgRQUiV",
        "colab_type": "code",
        "colab": {}
      },
      "source": [
        "import tensorflow_docs as tfdocs\n",
        "import tensorflow_docs.plots\n",
        "import tensorflow_docs.modeling"
      ],
      "execution_count": null,
      "outputs": []
    },
    {
      "cell_type": "markdown",
      "metadata": {
        "id": "F_72b0LCNbjx",
        "colab_type": "text"
      },
      "source": [
        "## The Auto MPG dataset\n",
        "\n",
        "The dataset is available from the [UCI Machine Learning Repository](https://archive.ics.uci.edu/ml/).\n"
      ]
    },
    {
      "cell_type": "markdown",
      "metadata": {
        "id": "gFh9ne3FZ-On",
        "colab_type": "text"
      },
      "source": [
        "### Get the data\n",
        "First download the dataset."
      ]
    },
    {
      "cell_type": "code",
      "metadata": {
        "id": "p9kxxgzvzlyz",
        "colab_type": "code",
        "colab": {
          "base_uri": "https://localhost:8080/",
          "height": 35
        },
        "outputId": "611edb41-0ccb-441c-f2e3-d2c73a83a116"
      },
      "source": [
        "dataset_path = keras.utils.get_file(\"auto-mpg.data\", \"http://archive.ics.uci.edu/ml/machine-learning-databases/auto-mpg/auto-mpg.data\")\n",
        "dataset_path"
      ],
      "execution_count": null,
      "outputs": [
        {
          "output_type": "execute_result",
          "data": {
            "application/vnd.google.colaboratory.intrinsic+json": {
              "type": "string"
            },
            "text/plain": [
              "'/root/.keras/datasets/auto-mpg.data'"
            ]
          },
          "metadata": {
            "tags": []
          },
          "execution_count": 66
        }
      ]
    },
    {
      "cell_type": "markdown",
      "metadata": {
        "id": "nslsRLh7Zss4",
        "colab_type": "text"
      },
      "source": [
        "Import it using pandas"
      ]
    },
    {
      "cell_type": "code",
      "metadata": {
        "id": "CiX2FI4gZtTt",
        "colab_type": "code",
        "colab": {
          "base_uri": "https://localhost:8080/",
          "height": 204
        },
        "outputId": "eed7076a-f8fb-4eb1-935b-6605b83e418f"
      },
      "source": [
        "column_names = ['MPG','Cylinders','Displacement','Horsepower','Weight',\n",
        "                'Acceleration', 'Model Year', 'Origin']\n",
        "dataset = pd.read_csv(dataset_path, names=column_names,\n",
        "                      na_values = \"?\", comment='\\t',\n",
        "                      sep=\" \", skipinitialspace=True)\n",
        "\n",
        "dataset.tail()"
      ],
      "execution_count": null,
      "outputs": [
        {
          "output_type": "execute_result",
          "data": {
            "text/html": [
              "<div>\n",
              "<style scoped>\n",
              "    .dataframe tbody tr th:only-of-type {\n",
              "        vertical-align: middle;\n",
              "    }\n",
              "\n",
              "    .dataframe tbody tr th {\n",
              "        vertical-align: top;\n",
              "    }\n",
              "\n",
              "    .dataframe thead th {\n",
              "        text-align: right;\n",
              "    }\n",
              "</style>\n",
              "<table border=\"1\" class=\"dataframe\">\n",
              "  <thead>\n",
              "    <tr style=\"text-align: right;\">\n",
              "      <th></th>\n",
              "      <th>MPG</th>\n",
              "      <th>Cylinders</th>\n",
              "      <th>Displacement</th>\n",
              "      <th>Horsepower</th>\n",
              "      <th>Weight</th>\n",
              "      <th>Acceleration</th>\n",
              "      <th>Model Year</th>\n",
              "      <th>Origin</th>\n",
              "    </tr>\n",
              "  </thead>\n",
              "  <tbody>\n",
              "    <tr>\n",
              "      <th>393</th>\n",
              "      <td>27.0</td>\n",
              "      <td>4</td>\n",
              "      <td>140.0</td>\n",
              "      <td>86.0</td>\n",
              "      <td>2790.0</td>\n",
              "      <td>15.6</td>\n",
              "      <td>82</td>\n",
              "      <td>1</td>\n",
              "    </tr>\n",
              "    <tr>\n",
              "      <th>394</th>\n",
              "      <td>44.0</td>\n",
              "      <td>4</td>\n",
              "      <td>97.0</td>\n",
              "      <td>52.0</td>\n",
              "      <td>2130.0</td>\n",
              "      <td>24.6</td>\n",
              "      <td>82</td>\n",
              "      <td>2</td>\n",
              "    </tr>\n",
              "    <tr>\n",
              "      <th>395</th>\n",
              "      <td>32.0</td>\n",
              "      <td>4</td>\n",
              "      <td>135.0</td>\n",
              "      <td>84.0</td>\n",
              "      <td>2295.0</td>\n",
              "      <td>11.6</td>\n",
              "      <td>82</td>\n",
              "      <td>1</td>\n",
              "    </tr>\n",
              "    <tr>\n",
              "      <th>396</th>\n",
              "      <td>28.0</td>\n",
              "      <td>4</td>\n",
              "      <td>120.0</td>\n",
              "      <td>79.0</td>\n",
              "      <td>2625.0</td>\n",
              "      <td>18.6</td>\n",
              "      <td>82</td>\n",
              "      <td>1</td>\n",
              "    </tr>\n",
              "    <tr>\n",
              "      <th>397</th>\n",
              "      <td>31.0</td>\n",
              "      <td>4</td>\n",
              "      <td>119.0</td>\n",
              "      <td>82.0</td>\n",
              "      <td>2720.0</td>\n",
              "      <td>19.4</td>\n",
              "      <td>82</td>\n",
              "      <td>1</td>\n",
              "    </tr>\n",
              "  </tbody>\n",
              "</table>\n",
              "</div>"
            ],
            "text/plain": [
              "      MPG  Cylinders  Displacement  ...  Acceleration  Model Year  Origin\n",
              "393  27.0          4         140.0  ...          15.6          82       1\n",
              "394  44.0          4          97.0  ...          24.6          82       2\n",
              "395  32.0          4         135.0  ...          11.6          82       1\n",
              "396  28.0          4         120.0  ...          18.6          82       1\n",
              "397  31.0          4         119.0  ...          19.4          82       1\n",
              "\n",
              "[5 rows x 8 columns]"
            ]
          },
          "metadata": {
            "tags": []
          },
          "execution_count": 67
        }
      ]
    },
    {
      "cell_type": "code",
      "metadata": {
        "id": "w8PMkFDWXfh8",
        "colab_type": "code",
        "colab": {
          "base_uri": "https://localhost:8080/",
          "height": 334
        },
        "outputId": "7d6c5c7e-f35e-4b94-8ba2-ba99385e72f5"
      },
      "source": [
        "dataset.describe()"
      ],
      "execution_count": null,
      "outputs": [
        {
          "output_type": "execute_result",
          "data": {
            "text/html": [
              "<div>\n",
              "<style scoped>\n",
              "    .dataframe tbody tr th:only-of-type {\n",
              "        vertical-align: middle;\n",
              "    }\n",
              "\n",
              "    .dataframe tbody tr th {\n",
              "        vertical-align: top;\n",
              "    }\n",
              "\n",
              "    .dataframe thead th {\n",
              "        text-align: right;\n",
              "    }\n",
              "</style>\n",
              "<table border=\"1\" class=\"dataframe\">\n",
              "  <thead>\n",
              "    <tr style=\"text-align: right;\">\n",
              "      <th></th>\n",
              "      <th>MPG</th>\n",
              "      <th>Cylinders</th>\n",
              "      <th>Displacement</th>\n",
              "      <th>Horsepower</th>\n",
              "      <th>Weight</th>\n",
              "      <th>Acceleration</th>\n",
              "      <th>Model Year</th>\n",
              "      <th>Origin</th>\n",
              "    </tr>\n",
              "  </thead>\n",
              "  <tbody>\n",
              "    <tr>\n",
              "      <th>count</th>\n",
              "      <td>398.000000</td>\n",
              "      <td>398.000000</td>\n",
              "      <td>398.000000</td>\n",
              "      <td>392.000000</td>\n",
              "      <td>398.000000</td>\n",
              "      <td>398.000000</td>\n",
              "      <td>398.000000</td>\n",
              "      <td>398.000000</td>\n",
              "    </tr>\n",
              "    <tr>\n",
              "      <th>mean</th>\n",
              "      <td>23.514573</td>\n",
              "      <td>5.454774</td>\n",
              "      <td>193.425879</td>\n",
              "      <td>104.469388</td>\n",
              "      <td>2970.424623</td>\n",
              "      <td>15.568090</td>\n",
              "      <td>76.010050</td>\n",
              "      <td>1.572864</td>\n",
              "    </tr>\n",
              "    <tr>\n",
              "      <th>std</th>\n",
              "      <td>7.815984</td>\n",
              "      <td>1.701004</td>\n",
              "      <td>104.269838</td>\n",
              "      <td>38.491160</td>\n",
              "      <td>846.841774</td>\n",
              "      <td>2.757689</td>\n",
              "      <td>3.697627</td>\n",
              "      <td>0.802055</td>\n",
              "    </tr>\n",
              "    <tr>\n",
              "      <th>min</th>\n",
              "      <td>9.000000</td>\n",
              "      <td>3.000000</td>\n",
              "      <td>68.000000</td>\n",
              "      <td>46.000000</td>\n",
              "      <td>1613.000000</td>\n",
              "      <td>8.000000</td>\n",
              "      <td>70.000000</td>\n",
              "      <td>1.000000</td>\n",
              "    </tr>\n",
              "    <tr>\n",
              "      <th>25%</th>\n",
              "      <td>17.500000</td>\n",
              "      <td>4.000000</td>\n",
              "      <td>104.250000</td>\n",
              "      <td>75.000000</td>\n",
              "      <td>2223.750000</td>\n",
              "      <td>13.825000</td>\n",
              "      <td>73.000000</td>\n",
              "      <td>1.000000</td>\n",
              "    </tr>\n",
              "    <tr>\n",
              "      <th>50%</th>\n",
              "      <td>23.000000</td>\n",
              "      <td>4.000000</td>\n",
              "      <td>148.500000</td>\n",
              "      <td>93.500000</td>\n",
              "      <td>2803.500000</td>\n",
              "      <td>15.500000</td>\n",
              "      <td>76.000000</td>\n",
              "      <td>1.000000</td>\n",
              "    </tr>\n",
              "    <tr>\n",
              "      <th>75%</th>\n",
              "      <td>29.000000</td>\n",
              "      <td>8.000000</td>\n",
              "      <td>262.000000</td>\n",
              "      <td>126.000000</td>\n",
              "      <td>3608.000000</td>\n",
              "      <td>17.175000</td>\n",
              "      <td>79.000000</td>\n",
              "      <td>2.000000</td>\n",
              "    </tr>\n",
              "    <tr>\n",
              "      <th>max</th>\n",
              "      <td>46.600000</td>\n",
              "      <td>8.000000</td>\n",
              "      <td>455.000000</td>\n",
              "      <td>230.000000</td>\n",
              "      <td>5140.000000</td>\n",
              "      <td>24.800000</td>\n",
              "      <td>82.000000</td>\n",
              "      <td>3.000000</td>\n",
              "    </tr>\n",
              "  </tbody>\n",
              "</table>\n",
              "</div>"
            ],
            "text/plain": [
              "              MPG   Cylinders  ...  Model Year      Origin\n",
              "count  398.000000  398.000000  ...  398.000000  398.000000\n",
              "mean    23.514573    5.454774  ...   76.010050    1.572864\n",
              "std      7.815984    1.701004  ...    3.697627    0.802055\n",
              "min      9.000000    3.000000  ...   70.000000    1.000000\n",
              "25%     17.500000    4.000000  ...   73.000000    1.000000\n",
              "50%     23.000000    4.000000  ...   76.000000    1.000000\n",
              "75%     29.000000    8.000000  ...   79.000000    2.000000\n",
              "max     46.600000    8.000000  ...   82.000000    3.000000\n",
              "\n",
              "[8 rows x 8 columns]"
            ]
          },
          "metadata": {
            "tags": []
          },
          "execution_count": 68
        }
      ]
    },
    {
      "cell_type": "markdown",
      "metadata": {
        "id": "3MWuJTKEDM-f",
        "colab_type": "text"
      },
      "source": [
        "### Clean the data\n",
        "\n",
        "The dataset contains a few unknown values."
      ]
    },
    {
      "cell_type": "code",
      "metadata": {
        "id": "JEJHhN65a2VV",
        "colab_type": "code",
        "colab": {
          "base_uri": "https://localhost:8080/",
          "height": 170
        },
        "outputId": "373982b2-23c4-48ee-f452-1da67e77cec0"
      },
      "source": [
        "dataset.isna().sum()"
      ],
      "execution_count": null,
      "outputs": [
        {
          "output_type": "execute_result",
          "data": {
            "text/plain": [
              "MPG             0\n",
              "Cylinders       0\n",
              "Displacement    0\n",
              "Horsepower      6\n",
              "Weight          0\n",
              "Acceleration    0\n",
              "Model Year      0\n",
              "Origin          0\n",
              "dtype: int64"
            ]
          },
          "metadata": {
            "tags": []
          },
          "execution_count": 69
        }
      ]
    },
    {
      "cell_type": "markdown",
      "metadata": {
        "id": "9UPN0KBHa_WI",
        "colab_type": "text"
      },
      "source": [
        "To keep this initial tutorial simple drop those rows."
      ]
    },
    {
      "cell_type": "code",
      "metadata": {
        "id": "4ZUDosChC1UN",
        "colab_type": "code",
        "colab": {}
      },
      "source": [
        "dataset = dataset.dropna()"
      ],
      "execution_count": null,
      "outputs": []
    },
    {
      "cell_type": "code",
      "metadata": {
        "id": "qamHzDS6XQor",
        "colab_type": "code",
        "colab": {
          "base_uri": "https://localhost:8080/",
          "height": 334
        },
        "outputId": "8e38580b-4127-4188-a433-44635a71a361"
      },
      "source": [
        "dataset.describe()"
      ],
      "execution_count": null,
      "outputs": [
        {
          "output_type": "execute_result",
          "data": {
            "text/html": [
              "<div>\n",
              "<style scoped>\n",
              "    .dataframe tbody tr th:only-of-type {\n",
              "        vertical-align: middle;\n",
              "    }\n",
              "\n",
              "    .dataframe tbody tr th {\n",
              "        vertical-align: top;\n",
              "    }\n",
              "\n",
              "    .dataframe thead th {\n",
              "        text-align: right;\n",
              "    }\n",
              "</style>\n",
              "<table border=\"1\" class=\"dataframe\">\n",
              "  <thead>\n",
              "    <tr style=\"text-align: right;\">\n",
              "      <th></th>\n",
              "      <th>MPG</th>\n",
              "      <th>Cylinders</th>\n",
              "      <th>Displacement</th>\n",
              "      <th>Horsepower</th>\n",
              "      <th>Weight</th>\n",
              "      <th>Acceleration</th>\n",
              "      <th>Model Year</th>\n",
              "      <th>Origin</th>\n",
              "    </tr>\n",
              "  </thead>\n",
              "  <tbody>\n",
              "    <tr>\n",
              "      <th>count</th>\n",
              "      <td>392.000000</td>\n",
              "      <td>392.000000</td>\n",
              "      <td>392.000000</td>\n",
              "      <td>392.000000</td>\n",
              "      <td>392.000000</td>\n",
              "      <td>392.000000</td>\n",
              "      <td>392.000000</td>\n",
              "      <td>392.000000</td>\n",
              "    </tr>\n",
              "    <tr>\n",
              "      <th>mean</th>\n",
              "      <td>23.445918</td>\n",
              "      <td>5.471939</td>\n",
              "      <td>194.411990</td>\n",
              "      <td>104.469388</td>\n",
              "      <td>2977.584184</td>\n",
              "      <td>15.541327</td>\n",
              "      <td>75.979592</td>\n",
              "      <td>1.576531</td>\n",
              "    </tr>\n",
              "    <tr>\n",
              "      <th>std</th>\n",
              "      <td>7.805007</td>\n",
              "      <td>1.705783</td>\n",
              "      <td>104.644004</td>\n",
              "      <td>38.491160</td>\n",
              "      <td>849.402560</td>\n",
              "      <td>2.758864</td>\n",
              "      <td>3.683737</td>\n",
              "      <td>0.805518</td>\n",
              "    </tr>\n",
              "    <tr>\n",
              "      <th>min</th>\n",
              "      <td>9.000000</td>\n",
              "      <td>3.000000</td>\n",
              "      <td>68.000000</td>\n",
              "      <td>46.000000</td>\n",
              "      <td>1613.000000</td>\n",
              "      <td>8.000000</td>\n",
              "      <td>70.000000</td>\n",
              "      <td>1.000000</td>\n",
              "    </tr>\n",
              "    <tr>\n",
              "      <th>25%</th>\n",
              "      <td>17.000000</td>\n",
              "      <td>4.000000</td>\n",
              "      <td>105.000000</td>\n",
              "      <td>75.000000</td>\n",
              "      <td>2225.250000</td>\n",
              "      <td>13.775000</td>\n",
              "      <td>73.000000</td>\n",
              "      <td>1.000000</td>\n",
              "    </tr>\n",
              "    <tr>\n",
              "      <th>50%</th>\n",
              "      <td>22.750000</td>\n",
              "      <td>4.000000</td>\n",
              "      <td>151.000000</td>\n",
              "      <td>93.500000</td>\n",
              "      <td>2803.500000</td>\n",
              "      <td>15.500000</td>\n",
              "      <td>76.000000</td>\n",
              "      <td>1.000000</td>\n",
              "    </tr>\n",
              "    <tr>\n",
              "      <th>75%</th>\n",
              "      <td>29.000000</td>\n",
              "      <td>8.000000</td>\n",
              "      <td>275.750000</td>\n",
              "      <td>126.000000</td>\n",
              "      <td>3614.750000</td>\n",
              "      <td>17.025000</td>\n",
              "      <td>79.000000</td>\n",
              "      <td>2.000000</td>\n",
              "    </tr>\n",
              "    <tr>\n",
              "      <th>max</th>\n",
              "      <td>46.600000</td>\n",
              "      <td>8.000000</td>\n",
              "      <td>455.000000</td>\n",
              "      <td>230.000000</td>\n",
              "      <td>5140.000000</td>\n",
              "      <td>24.800000</td>\n",
              "      <td>82.000000</td>\n",
              "      <td>3.000000</td>\n",
              "    </tr>\n",
              "  </tbody>\n",
              "</table>\n",
              "</div>"
            ],
            "text/plain": [
              "              MPG   Cylinders  ...  Model Year      Origin\n",
              "count  392.000000  392.000000  ...  392.000000  392.000000\n",
              "mean    23.445918    5.471939  ...   75.979592    1.576531\n",
              "std      7.805007    1.705783  ...    3.683737    0.805518\n",
              "min      9.000000    3.000000  ...   70.000000    1.000000\n",
              "25%     17.000000    4.000000  ...   73.000000    1.000000\n",
              "50%     22.750000    4.000000  ...   76.000000    1.000000\n",
              "75%     29.000000    8.000000  ...   79.000000    2.000000\n",
              "max     46.600000    8.000000  ...   82.000000    3.000000\n",
              "\n",
              "[8 rows x 8 columns]"
            ]
          },
          "metadata": {
            "tags": []
          },
          "execution_count": 71
        }
      ]
    },
    {
      "cell_type": "code",
      "metadata": {
        "id": "Ft9cXWzTXV8_",
        "colab_type": "code",
        "colab": {
          "base_uri": "https://localhost:8080/",
          "height": 34
        },
        "outputId": "6d32e965-4e31-4e51-ecee-28bea4387583"
      },
      "source": [
        "print(dataset['MPG'].describe()['mean'])"
      ],
      "execution_count": null,
      "outputs": [
        {
          "output_type": "stream",
          "text": [
            "23.44591836734694\n"
          ],
          "name": "stdout"
        }
      ]
    },
    {
      "cell_type": "code",
      "metadata": {
        "id": "tIbd4ehwbFXo",
        "colab_type": "code",
        "colab": {
          "base_uri": "https://localhost:8080/",
          "height": 119
        },
        "outputId": "7b7dbeeb-adae-41b0-d3c8-9ba9636b01c6"
      },
      "source": [
        "dataset['Origin'].tail()"
      ],
      "execution_count": null,
      "outputs": [
        {
          "output_type": "execute_result",
          "data": {
            "text/plain": [
              "393    1\n",
              "394    2\n",
              "395    1\n",
              "396    1\n",
              "397    1\n",
              "Name: Origin, dtype: int64"
            ]
          },
          "metadata": {
            "tags": []
          },
          "execution_count": 73
        }
      ]
    },
    {
      "cell_type": "markdown",
      "metadata": {
        "id": "8XKitwaH4v8h",
        "colab_type": "text"
      },
      "source": [
        "The `\"Origin\"` column is really categorical, not numeric. So convert that to a one-hot:"
      ]
    },
    {
      "cell_type": "code",
      "metadata": {
        "id": "gWNTD2QjBWFJ",
        "colab_type": "code",
        "colab": {}
      },
      "source": [
        "dataset['Origin'] = dataset['Origin'].map({1: 'USA', 2: 'Europe', 3: 'Japan'})"
      ],
      "execution_count": null,
      "outputs": []
    },
    {
      "cell_type": "code",
      "metadata": {
        "id": "NNfppIl6bPuI",
        "colab_type": "code",
        "colab": {
          "base_uri": "https://localhost:8080/",
          "height": 119
        },
        "outputId": "7f065821-75e3-41b5-ab52-551fd01b73d0"
      },
      "source": [
        "dataset['Origin'].tail()"
      ],
      "execution_count": null,
      "outputs": [
        {
          "output_type": "execute_result",
          "data": {
            "text/plain": [
              "393       USA\n",
              "394    Europe\n",
              "395       USA\n",
              "396       USA\n",
              "397       USA\n",
              "Name: Origin, dtype: object"
            ]
          },
          "metadata": {
            "tags": []
          },
          "execution_count": 75
        }
      ]
    },
    {
      "cell_type": "code",
      "metadata": {
        "id": "61wnnuxoYqhi",
        "colab_type": "code",
        "colab": {
          "base_uri": "https://localhost:8080/",
          "height": 221
        },
        "outputId": "97672b62-7557-4c5c-c5a8-5a1f291cd1c7"
      },
      "source": [
        "dataset['Origin']"
      ],
      "execution_count": null,
      "outputs": [
        {
          "output_type": "execute_result",
          "data": {
            "text/plain": [
              "0         USA\n",
              "1         USA\n",
              "2         USA\n",
              "3         USA\n",
              "4         USA\n",
              "        ...  \n",
              "393       USA\n",
              "394    Europe\n",
              "395       USA\n",
              "396       USA\n",
              "397       USA\n",
              "Name: Origin, Length: 392, dtype: object"
            ]
          },
          "metadata": {
            "tags": []
          },
          "execution_count": 76
        }
      ]
    },
    {
      "cell_type": "code",
      "metadata": {
        "id": "ulXz4J7PAUzk",
        "colab_type": "code",
        "colab": {
          "base_uri": "https://localhost:8080/",
          "height": 241
        },
        "outputId": "d1a7d9cf-c39a-43b1-8993-901334d7cca2"
      },
      "source": [
        "dataset = pd.get_dummies(dataset)\n",
        "dataset.tail()"
      ],
      "execution_count": null,
      "outputs": [
        {
          "output_type": "execute_result",
          "data": {
            "text/html": [
              "<div>\n",
              "<style scoped>\n",
              "    .dataframe tbody tr th:only-of-type {\n",
              "        vertical-align: middle;\n",
              "    }\n",
              "\n",
              "    .dataframe tbody tr th {\n",
              "        vertical-align: top;\n",
              "    }\n",
              "\n",
              "    .dataframe thead th {\n",
              "        text-align: right;\n",
              "    }\n",
              "</style>\n",
              "<table border=\"1\" class=\"dataframe\">\n",
              "  <thead>\n",
              "    <tr style=\"text-align: right;\">\n",
              "      <th></th>\n",
              "      <th>MPG</th>\n",
              "      <th>Cylinders</th>\n",
              "      <th>Displacement</th>\n",
              "      <th>Horsepower</th>\n",
              "      <th>Weight</th>\n",
              "      <th>Acceleration</th>\n",
              "      <th>Model Year</th>\n",
              "      <th>Origin_Europe</th>\n",
              "      <th>Origin_Japan</th>\n",
              "      <th>Origin_USA</th>\n",
              "    </tr>\n",
              "  </thead>\n",
              "  <tbody>\n",
              "    <tr>\n",
              "      <th>393</th>\n",
              "      <td>27.0</td>\n",
              "      <td>4</td>\n",
              "      <td>140.0</td>\n",
              "      <td>86.0</td>\n",
              "      <td>2790.0</td>\n",
              "      <td>15.6</td>\n",
              "      <td>82</td>\n",
              "      <td>0</td>\n",
              "      <td>0</td>\n",
              "      <td>1</td>\n",
              "    </tr>\n",
              "    <tr>\n",
              "      <th>394</th>\n",
              "      <td>44.0</td>\n",
              "      <td>4</td>\n",
              "      <td>97.0</td>\n",
              "      <td>52.0</td>\n",
              "      <td>2130.0</td>\n",
              "      <td>24.6</td>\n",
              "      <td>82</td>\n",
              "      <td>1</td>\n",
              "      <td>0</td>\n",
              "      <td>0</td>\n",
              "    </tr>\n",
              "    <tr>\n",
              "      <th>395</th>\n",
              "      <td>32.0</td>\n",
              "      <td>4</td>\n",
              "      <td>135.0</td>\n",
              "      <td>84.0</td>\n",
              "      <td>2295.0</td>\n",
              "      <td>11.6</td>\n",
              "      <td>82</td>\n",
              "      <td>0</td>\n",
              "      <td>0</td>\n",
              "      <td>1</td>\n",
              "    </tr>\n",
              "    <tr>\n",
              "      <th>396</th>\n",
              "      <td>28.0</td>\n",
              "      <td>4</td>\n",
              "      <td>120.0</td>\n",
              "      <td>79.0</td>\n",
              "      <td>2625.0</td>\n",
              "      <td>18.6</td>\n",
              "      <td>82</td>\n",
              "      <td>0</td>\n",
              "      <td>0</td>\n",
              "      <td>1</td>\n",
              "    </tr>\n",
              "    <tr>\n",
              "      <th>397</th>\n",
              "      <td>31.0</td>\n",
              "      <td>4</td>\n",
              "      <td>119.0</td>\n",
              "      <td>82.0</td>\n",
              "      <td>2720.0</td>\n",
              "      <td>19.4</td>\n",
              "      <td>82</td>\n",
              "      <td>0</td>\n",
              "      <td>0</td>\n",
              "      <td>1</td>\n",
              "    </tr>\n",
              "  </tbody>\n",
              "</table>\n",
              "</div>"
            ],
            "text/plain": [
              "      MPG  Cylinders  Displacement  ...  Origin_Europe  Origin_Japan  Origin_USA\n",
              "393  27.0          4         140.0  ...              0             0           1\n",
              "394  44.0          4          97.0  ...              1             0           0\n",
              "395  32.0          4         135.0  ...              0             0           1\n",
              "396  28.0          4         120.0  ...              0             0           1\n",
              "397  31.0          4         119.0  ...              0             0           1\n",
              "\n",
              "[5 rows x 10 columns]"
            ]
          },
          "metadata": {
            "tags": []
          },
          "execution_count": 77
        }
      ]
    },
    {
      "cell_type": "markdown",
      "metadata": {
        "id": "5hk6ZJvtYM1L",
        "colab_type": "text"
      },
      "source": [
        ""
      ]
    },
    {
      "cell_type": "code",
      "metadata": {
        "id": "sgb2FXlSa8Jz",
        "colab_type": "code",
        "colab": {}
      },
      "source": [
        ""
      ],
      "execution_count": null,
      "outputs": []
    },
    {
      "cell_type": "markdown",
      "metadata": {
        "id": "Cuym4yvk76vU",
        "colab_type": "text"
      },
      "source": [
        "### Split the data into train and test\n",
        "\n",
        "Now split the dataset into a training set and a test set.\n",
        "\n",
        "We will use the test set in the final evaluation of our model."
      ]
    },
    {
      "cell_type": "code",
      "metadata": {
        "id": "qn-IGhUE7_1H",
        "colab_type": "code",
        "colab": {}
      },
      "source": [
        "train_dataset = dataset.sample(frac=0.8,random_state=0)\n",
        "test_dataset = dataset.drop(train_dataset.index)"
      ],
      "execution_count": null,
      "outputs": []
    },
    {
      "cell_type": "markdown",
      "metadata": {
        "id": "J4ubs136WLNp",
        "colab_type": "text"
      },
      "source": [
        "### Inspect the data\n",
        "\n",
        "Have a quick look at the joint distribution of a few pairs of columns from the training set."
      ]
    },
    {
      "cell_type": "code",
      "metadata": {
        "id": "oRKO_x8gWKv-",
        "colab_type": "code",
        "colab": {
          "base_uri": "https://localhost:8080/",
          "height": 747
        },
        "outputId": "22e45a52-9f3d-4ee8-c660-50219b783fa2"
      },
      "source": [
        "sns.pairplot(train_dataset[[\"MPG\", \"Cylinders\", \"Displacement\", \"Weight\"]], diag_kind=\"kde\")"
      ],
      "execution_count": null,
      "outputs": [
        {
          "output_type": "execute_result",
          "data": {
            "text/plain": [
              "<seaborn.axisgrid.PairGrid at 0x7fd7333eee80>"
            ]
          },
          "metadata": {
            "tags": []
          },
          "execution_count": 79
        },
        {
          "output_type": "display_data",
          "data": {
            "image/png": "[encoded data removed]",
            "text/plain": [
              "<Figure size 720x720 with 20 Axes>"
            ]
          },
          "metadata": {
            "tags": [],
            "needs_background": "light"
          }
        }
      ]
    },
    {
      "cell_type": "markdown",
      "metadata": {
        "id": "gavKO_6DWRMP",
        "colab_type": "text"
      },
      "source": [
        "Also look at the overall statistics:"
      ]
    },
    {
      "cell_type": "code",
      "metadata": {
        "id": "Km_PyOxRcKVf",
        "colab_type": "code",
        "colab": {}
      },
      "source": [
        "train_stats = train_dataset.describe()"
      ],
      "execution_count": null,
      "outputs": []
    },
    {
      "cell_type": "code",
      "metadata": {
        "id": "9nsDTkoIcV-n",
        "colab_type": "code",
        "colab": {
          "base_uri": "https://localhost:8080/",
          "height": 334
        },
        "outputId": "fdef9cb7-723e-45b8-8caf-e2f706cc33e7"
      },
      "source": [
        "train_stats"
      ],
      "execution_count": null,
      "outputs": [
        {
          "output_type": "execute_result",
          "data": {
            "text/html": [
              "<div>\n",
              "<style scoped>\n",
              "    .dataframe tbody tr th:only-of-type {\n",
              "        vertical-align: middle;\n",
              "    }\n",
              "\n",
              "    .dataframe tbody tr th {\n",
              "        vertical-align: top;\n",
              "    }\n",
              "\n",
              "    .dataframe thead th {\n",
              "        text-align: right;\n",
              "    }\n",
              "</style>\n",
              "<table border=\"1\" class=\"dataframe\">\n",
              "  <thead>\n",
              "    <tr style=\"text-align: right;\">\n",
              "      <th></th>\n",
              "      <th>MPG</th>\n",
              "      <th>Cylinders</th>\n",
              "      <th>Displacement</th>\n",
              "      <th>Horsepower</th>\n",
              "      <th>Weight</th>\n",
              "      <th>Acceleration</th>\n",
              "      <th>Model Year</th>\n",
              "      <th>Origin_Europe</th>\n",
              "      <th>Origin_Japan</th>\n",
              "      <th>Origin_USA</th>\n",
              "    </tr>\n",
              "  </thead>\n",
              "  <tbody>\n",
              "    <tr>\n",
              "      <th>count</th>\n",
              "      <td>314.000000</td>\n",
              "      <td>314.000000</td>\n",
              "      <td>314.000000</td>\n",
              "      <td>314.000000</td>\n",
              "      <td>314.000000</td>\n",
              "      <td>314.000000</td>\n",
              "      <td>314.000000</td>\n",
              "      <td>314.000000</td>\n",
              "      <td>314.000000</td>\n",
              "      <td>314.000000</td>\n",
              "    </tr>\n",
              "    <tr>\n",
              "      <th>mean</th>\n",
              "      <td>23.310510</td>\n",
              "      <td>5.477707</td>\n",
              "      <td>195.318471</td>\n",
              "      <td>104.869427</td>\n",
              "      <td>2990.251592</td>\n",
              "      <td>15.559236</td>\n",
              "      <td>75.898089</td>\n",
              "      <td>0.178344</td>\n",
              "      <td>0.197452</td>\n",
              "      <td>0.624204</td>\n",
              "    </tr>\n",
              "    <tr>\n",
              "      <th>std</th>\n",
              "      <td>7.728652</td>\n",
              "      <td>1.699788</td>\n",
              "      <td>104.331589</td>\n",
              "      <td>38.096214</td>\n",
              "      <td>843.898596</td>\n",
              "      <td>2.789230</td>\n",
              "      <td>3.675642</td>\n",
              "      <td>0.383413</td>\n",
              "      <td>0.398712</td>\n",
              "      <td>0.485101</td>\n",
              "    </tr>\n",
              "    <tr>\n",
              "      <th>min</th>\n",
              "      <td>10.000000</td>\n",
              "      <td>3.000000</td>\n",
              "      <td>68.000000</td>\n",
              "      <td>46.000000</td>\n",
              "      <td>1649.000000</td>\n",
              "      <td>8.000000</td>\n",
              "      <td>70.000000</td>\n",
              "      <td>0.000000</td>\n",
              "      <td>0.000000</td>\n",
              "      <td>0.000000</td>\n",
              "    </tr>\n",
              "    <tr>\n",
              "      <th>25%</th>\n",
              "      <td>17.000000</td>\n",
              "      <td>4.000000</td>\n",
              "      <td>105.500000</td>\n",
              "      <td>76.250000</td>\n",
              "      <td>2256.500000</td>\n",
              "      <td>13.800000</td>\n",
              "      <td>73.000000</td>\n",
              "      <td>0.000000</td>\n",
              "      <td>0.000000</td>\n",
              "      <td>0.000000</td>\n",
              "    </tr>\n",
              "    <tr>\n",
              "      <th>50%</th>\n",
              "      <td>22.000000</td>\n",
              "      <td>4.000000</td>\n",
              "      <td>151.000000</td>\n",
              "      <td>94.500000</td>\n",
              "      <td>2822.500000</td>\n",
              "      <td>15.500000</td>\n",
              "      <td>76.000000</td>\n",
              "      <td>0.000000</td>\n",
              "      <td>0.000000</td>\n",
              "      <td>1.000000</td>\n",
              "    </tr>\n",
              "    <tr>\n",
              "      <th>75%</th>\n",
              "      <td>28.950000</td>\n",
              "      <td>8.000000</td>\n",
              "      <td>265.750000</td>\n",
              "      <td>128.000000</td>\n",
              "      <td>3608.000000</td>\n",
              "      <td>17.200000</td>\n",
              "      <td>79.000000</td>\n",
              "      <td>0.000000</td>\n",
              "      <td>0.000000</td>\n",
              "      <td>1.000000</td>\n",
              "    </tr>\n",
              "    <tr>\n",
              "      <th>max</th>\n",
              "      <td>46.600000</td>\n",
              "      <td>8.000000</td>\n",
              "      <td>455.000000</td>\n",
              "      <td>225.000000</td>\n",
              "      <td>5140.000000</td>\n",
              "      <td>24.800000</td>\n",
              "      <td>82.000000</td>\n",
              "      <td>1.000000</td>\n",
              "      <td>1.000000</td>\n",
              "      <td>1.000000</td>\n",
              "    </tr>\n",
              "  </tbody>\n",
              "</table>\n",
              "</div>"
            ],
            "text/plain": [
              "              MPG   Cylinders  ...  Origin_Japan  Origin_USA\n",
              "count  314.000000  314.000000  ...    314.000000  314.000000\n",
              "mean    23.310510    5.477707  ...      0.197452    0.624204\n",
              "std      7.728652    1.699788  ...      0.398712    0.485101\n",
              "min     10.000000    3.000000  ...      0.000000    0.000000\n",
              "25%     17.000000    4.000000  ...      0.000000    0.000000\n",
              "50%     22.000000    4.000000  ...      0.000000    1.000000\n",
              "75%     28.950000    8.000000  ...      0.000000    1.000000\n",
              "max     46.600000    8.000000  ...      1.000000    1.000000\n",
              "\n",
              "[8 rows x 10 columns]"
            ]
          },
          "metadata": {
            "tags": []
          },
          "execution_count": 81
        }
      ]
    },
    {
      "cell_type": "code",
      "metadata": {
        "id": "ERT1vPrvcclA",
        "colab_type": "code",
        "colab": {
          "base_uri": "https://localhost:8080/",
          "height": 334
        },
        "outputId": "40376625-6d93-4645-e872-f3365eba238c"
      },
      "source": [
        "train_stats = train_dataset.describe()\n",
        "train_stats.pop(\"MPG\")\n",
        "train_stats"
      ],
      "execution_count": null,
      "outputs": [
        {
          "output_type": "execute_result",
          "data": {
            "text/html": [
              "<div>\n",
              "<style scoped>\n",
              "    .dataframe tbody tr th:only-of-type {\n",
              "        vertical-align: middle;\n",
              "    }\n",
              "\n",
              "    .dataframe tbody tr th {\n",
              "        vertical-align: top;\n",
              "    }\n",
              "\n",
              "    .dataframe thead th {\n",
              "        text-align: right;\n",
              "    }\n",
              "</style>\n",
              "<table border=\"1\" class=\"dataframe\">\n",
              "  <thead>\n",
              "    <tr style=\"text-align: right;\">\n",
              "      <th></th>\n",
              "      <th>Cylinders</th>\n",
              "      <th>Displacement</th>\n",
              "      <th>Horsepower</th>\n",
              "      <th>Weight</th>\n",
              "      <th>Acceleration</th>\n",
              "      <th>Model Year</th>\n",
              "      <th>Origin_Europe</th>\n",
              "      <th>Origin_Japan</th>\n",
              "      <th>Origin_USA</th>\n",
              "    </tr>\n",
              "  </thead>\n",
              "  <tbody>\n",
              "    <tr>\n",
              "      <th>count</th>\n",
              "      <td>314.000000</td>\n",
              "      <td>314.000000</td>\n",
              "      <td>314.000000</td>\n",
              "      <td>314.000000</td>\n",
              "      <td>314.000000</td>\n",
              "      <td>314.000000</td>\n",
              "      <td>314.000000</td>\n",
              "      <td>314.000000</td>\n",
              "      <td>314.000000</td>\n",
              "    </tr>\n",
              "    <tr>\n",
              "      <th>mean</th>\n",
              "      <td>5.477707</td>\n",
              "      <td>195.318471</td>\n",
              "      <td>104.869427</td>\n",
              "      <td>2990.251592</td>\n",
              "      <td>15.559236</td>\n",
              "      <td>75.898089</td>\n",
              "      <td>0.178344</td>\n",
              "      <td>0.197452</td>\n",
              "      <td>0.624204</td>\n",
              "    </tr>\n",
              "    <tr>\n",
              "      <th>std</th>\n",
              "      <td>1.699788</td>\n",
              "      <td>104.331589</td>\n",
              "      <td>38.096214</td>\n",
              "      <td>843.898596</td>\n",
              "      <td>2.789230</td>\n",
              "      <td>3.675642</td>\n",
              "      <td>0.383413</td>\n",
              "      <td>0.398712</td>\n",
              "      <td>0.485101</td>\n",
              "    </tr>\n",
              "    <tr>\n",
              "      <th>min</th>\n",
              "      <td>3.000000</td>\n",
              "      <td>68.000000</td>\n",
              "      <td>46.000000</td>\n",
              "      <td>1649.000000</td>\n",
              "      <td>8.000000</td>\n",
              "      <td>70.000000</td>\n",
              "      <td>0.000000</td>\n",
              "      <td>0.000000</td>\n",
              "      <td>0.000000</td>\n",
              "    </tr>\n",
              "    <tr>\n",
              "      <th>25%</th>\n",
              "      <td>4.000000</td>\n",
              "      <td>105.500000</td>\n",
              "      <td>76.250000</td>\n",
              "      <td>2256.500000</td>\n",
              "      <td>13.800000</td>\n",
              "      <td>73.000000</td>\n",
              "      <td>0.000000</td>\n",
              "      <td>0.000000</td>\n",
              "      <td>0.000000</td>\n",
              "    </tr>\n",
              "    <tr>\n",
              "      <th>50%</th>\n",
              "      <td>4.000000</td>\n",
              "      <td>151.000000</td>\n",
              "      <td>94.500000</td>\n",
              "      <td>2822.500000</td>\n",
              "      <td>15.500000</td>\n",
              "      <td>76.000000</td>\n",
              "      <td>0.000000</td>\n",
              "      <td>0.000000</td>\n",
              "      <td>1.000000</td>\n",
              "    </tr>\n",
              "    <tr>\n",
              "      <th>75%</th>\n",
              "      <td>8.000000</td>\n",
              "      <td>265.750000</td>\n",
              "      <td>128.000000</td>\n",
              "      <td>3608.000000</td>\n",
              "      <td>17.200000</td>\n",
              "      <td>79.000000</td>\n",
              "      <td>0.000000</td>\n",
              "      <td>0.000000</td>\n",
              "      <td>1.000000</td>\n",
              "    </tr>\n",
              "    <tr>\n",
              "      <th>max</th>\n",
              "      <td>8.000000</td>\n",
              "      <td>455.000000</td>\n",
              "      <td>225.000000</td>\n",
              "      <td>5140.000000</td>\n",
              "      <td>24.800000</td>\n",
              "      <td>82.000000</td>\n",
              "      <td>1.000000</td>\n",
              "      <td>1.000000</td>\n",
              "      <td>1.000000</td>\n",
              "    </tr>\n",
              "  </tbody>\n",
              "</table>\n",
              "</div>"
            ],
            "text/plain": [
              "        Cylinders  Displacement  ...  Origin_Japan  Origin_USA\n",
              "count  314.000000    314.000000  ...    314.000000  314.000000\n",
              "mean     5.477707    195.318471  ...      0.197452    0.624204\n",
              "std      1.699788    104.331589  ...      0.398712    0.485101\n",
              "min      3.000000     68.000000  ...      0.000000    0.000000\n",
              "25%      4.000000    105.500000  ...      0.000000    0.000000\n",
              "50%      4.000000    151.000000  ...      0.000000    1.000000\n",
              "75%      8.000000    265.750000  ...      0.000000    1.000000\n",
              "max      8.000000    455.000000  ...      1.000000    1.000000\n",
              "\n",
              "[8 rows x 9 columns]"
            ]
          },
          "metadata": {
            "tags": []
          },
          "execution_count": 82
        }
      ]
    },
    {
      "cell_type": "code",
      "metadata": {
        "id": "yi2FzC3T21jR",
        "colab_type": "code",
        "colab": {
          "base_uri": "https://localhost:8080/",
          "height": 328
        },
        "outputId": "0cf385b0-909b-4155-fa3c-4eeec1aff8dd"
      },
      "source": [
        "\n",
        "train_stats = train_stats.transpose()\n",
        "train_stats"
      ],
      "execution_count": null,
      "outputs": [
        {
          "output_type": "execute_result",
          "data": {
            "text/html": [
              "<div>\n",
              "<style scoped>\n",
              "    .dataframe tbody tr th:only-of-type {\n",
              "        vertical-align: middle;\n",
              "    }\n",
              "\n",
              "    .dataframe tbody tr th {\n",
              "        vertical-align: top;\n",
              "    }\n",
              "\n",
              "    .dataframe thead th {\n",
              "        text-align: right;\n",
              "    }\n",
              "</style>\n",
              "<table border=\"1\" class=\"dataframe\">\n",
              "  <thead>\n",
              "    <tr style=\"text-align: right;\">\n",
              "      <th></th>\n",
              "      <th>count</th>\n",
              "      <th>mean</th>\n",
              "      <th>std</th>\n",
              "      <th>min</th>\n",
              "      <th>25%</th>\n",
              "      <th>50%</th>\n",
              "      <th>75%</th>\n",
              "      <th>max</th>\n",
              "    </tr>\n",
              "  </thead>\n",
              "  <tbody>\n",
              "    <tr>\n",
              "      <th>Cylinders</th>\n",
              "      <td>314.0</td>\n",
              "      <td>5.477707</td>\n",
              "      <td>1.699788</td>\n",
              "      <td>3.0</td>\n",
              "      <td>4.00</td>\n",
              "      <td>4.0</td>\n",
              "      <td>8.00</td>\n",
              "      <td>8.0</td>\n",
              "    </tr>\n",
              "    <tr>\n",
              "      <th>Displacement</th>\n",
              "      <td>314.0</td>\n",
              "      <td>195.318471</td>\n",
              "      <td>104.331589</td>\n",
              "      <td>68.0</td>\n",
              "      <td>105.50</td>\n",
              "      <td>151.0</td>\n",
              "      <td>265.75</td>\n",
              "      <td>455.0</td>\n",
              "    </tr>\n",
              "    <tr>\n",
              "      <th>Horsepower</th>\n",
              "      <td>314.0</td>\n",
              "      <td>104.869427</td>\n",
              "      <td>38.096214</td>\n",
              "      <td>46.0</td>\n",
              "      <td>76.25</td>\n",
              "      <td>94.5</td>\n",
              "      <td>128.00</td>\n",
              "      <td>225.0</td>\n",
              "    </tr>\n",
              "    <tr>\n",
              "      <th>Weight</th>\n",
              "      <td>314.0</td>\n",
              "      <td>2990.251592</td>\n",
              "      <td>843.898596</td>\n",
              "      <td>1649.0</td>\n",
              "      <td>2256.50</td>\n",
              "      <td>2822.5</td>\n",
              "      <td>3608.00</td>\n",
              "      <td>5140.0</td>\n",
              "    </tr>\n",
              "    <tr>\n",
              "      <th>Acceleration</th>\n",
              "      <td>314.0</td>\n",
              "      <td>15.559236</td>\n",
              "      <td>2.789230</td>\n",
              "      <td>8.0</td>\n",
              "      <td>13.80</td>\n",
              "      <td>15.5</td>\n",
              "      <td>17.20</td>\n",
              "      <td>24.8</td>\n",
              "    </tr>\n",
              "    <tr>\n",
              "      <th>Model Year</th>\n",
              "      <td>314.0</td>\n",
              "      <td>75.898089</td>\n",
              "      <td>3.675642</td>\n",
              "      <td>70.0</td>\n",
              "      <td>73.00</td>\n",
              "      <td>76.0</td>\n",
              "      <td>79.00</td>\n",
              "      <td>82.0</td>\n",
              "    </tr>\n",
              "    <tr>\n",
              "      <th>Origin_Europe</th>\n",
              "      <td>314.0</td>\n",
              "      <td>0.178344</td>\n",
              "      <td>0.383413</td>\n",
              "      <td>0.0</td>\n",
              "      <td>0.00</td>\n",
              "      <td>0.0</td>\n",
              "      <td>0.00</td>\n",
              "      <td>1.0</td>\n",
              "    </tr>\n",
              "    <tr>\n",
              "      <th>Origin_Japan</th>\n",
              "      <td>314.0</td>\n",
              "      <td>0.197452</td>\n",
              "      <td>0.398712</td>\n",
              "      <td>0.0</td>\n",
              "      <td>0.00</td>\n",
              "      <td>0.0</td>\n",
              "      <td>0.00</td>\n",
              "      <td>1.0</td>\n",
              "    </tr>\n",
              "    <tr>\n",
              "      <th>Origin_USA</th>\n",
              "      <td>314.0</td>\n",
              "      <td>0.624204</td>\n",
              "      <td>0.485101</td>\n",
              "      <td>0.0</td>\n",
              "      <td>0.00</td>\n",
              "      <td>1.0</td>\n",
              "      <td>1.00</td>\n",
              "      <td>1.0</td>\n",
              "    </tr>\n",
              "  </tbody>\n",
              "</table>\n",
              "</div>"
            ],
            "text/plain": [
              "               count         mean         std  ...     50%      75%     max\n",
              "Cylinders      314.0     5.477707    1.699788  ...     4.0     8.00     8.0\n",
              "Displacement   314.0   195.318471  104.331589  ...   151.0   265.75   455.0\n",
              "Horsepower     314.0   104.869427   38.096214  ...    94.5   128.00   225.0\n",
              "Weight         314.0  2990.251592  843.898596  ...  2822.5  3608.00  5140.0\n",
              "Acceleration   314.0    15.559236    2.789230  ...    15.5    17.20    24.8\n",
              "Model Year     314.0    75.898089    3.675642  ...    76.0    79.00    82.0\n",
              "Origin_Europe  314.0     0.178344    0.383413  ...     0.0     0.00     1.0\n",
              "Origin_Japan   314.0     0.197452    0.398712  ...     0.0     0.00     1.0\n",
              "Origin_USA     314.0     0.624204    0.485101  ...     1.0     1.00     1.0\n",
              "\n",
              "[9 rows x 8 columns]"
            ]
          },
          "metadata": {
            "tags": []
          },
          "execution_count": 83
        }
      ]
    },
    {
      "cell_type": "markdown",
      "metadata": {
        "id": "Db7Auq1yXUvh",
        "colab_type": "text"
      },
      "source": [
        "### Split features from labels\n",
        "\n",
        "Separate the target value, or \"label\", from the features. This label is the value that you will train the model to predict."
      ]
    },
    {
      "cell_type": "code",
      "metadata": {
        "id": "t2sluJdCW7jN",
        "colab_type": "code",
        "colab": {}
      },
      "source": [
        "train_labels = train_dataset.pop('MPG')\n",
        "test_labels = test_dataset.pop('MPG')"
      ],
      "execution_count": null,
      "outputs": []
    },
    {
      "cell_type": "markdown",
      "metadata": {
        "id": "mRklxK5s388r",
        "colab_type": "text"
      },
      "source": [
        "### Normalize the data\n",
        "\n",
        "Look again at the `train_stats` block above and note how different the ranges of each feature are."
      ]
    },
    {
      "cell_type": "markdown",
      "metadata": {
        "id": "-ywmerQ6dSox",
        "colab_type": "text"
      },
      "source": [
        "It is good practice to normalize features that use different scales and ranges. Although the model *might* converge without feature normalization, it makes training more difficult, and it makes the resulting model dependent on the choice of units used in the input.\n",
        "\n",
        "Note: Although we intentionally generate these statistics from only the training dataset, these statistics will also be used to normalize the test dataset. We need to do that to project the test dataset into the same distribution that the model has been trained on."
      ]
    },
    {
      "cell_type": "code",
      "metadata": {
        "id": "JlC5ooJrgjQF",
        "colab_type": "code",
        "colab": {}
      },
      "source": [
        "def norm(x):\n",
        "  return (x - train_stats['mean']) / train_stats['std']\n",
        "normed_train_data = norm(train_dataset)\n",
        "normed_test_data = norm(test_dataset)"
      ],
      "execution_count": null,
      "outputs": []
    },
    {
      "cell_type": "code",
      "metadata": {
        "id": "1FM2U_xldAv2",
        "colab_type": "code",
        "colab": {
          "base_uri": "https://localhost:8080/",
          "height": 317
        },
        "outputId": "726e5abe-e973-47e4-8c68-5cf869fc9fa8"
      },
      "source": [
        "normed_train_data.describe()"
      ],
      "execution_count": null,
      "outputs": [
        {
          "output_type": "execute_result",
          "data": {
            "text/html": [
              "<div>\n",
              "<style scoped>\n",
              "    .dataframe tbody tr th:only-of-type {\n",
              "        vertical-align: middle;\n",
              "    }\n",
              "\n",
              "    .dataframe tbody tr th {\n",
              "        vertical-align: top;\n",
              "    }\n",
              "\n",
              "    .dataframe thead th {\n",
              "        text-align: right;\n",
              "    }\n",
              "</style>\n",
              "<table border=\"1\" class=\"dataframe\">\n",
              "  <thead>\n",
              "    <tr style=\"text-align: right;\">\n",
              "      <th></th>\n",
              "      <th>Cylinders</th>\n",
              "      <th>Displacement</th>\n",
              "      <th>Horsepower</th>\n",
              "      <th>Weight</th>\n",
              "      <th>Acceleration</th>\n",
              "      <th>Model Year</th>\n",
              "      <th>Origin_Europe</th>\n",
              "      <th>Origin_Japan</th>\n",
              "      <th>Origin_USA</th>\n",
              "    </tr>\n",
              "  </thead>\n",
              "  <tbody>\n",
              "    <tr>\n",
              "      <th>count</th>\n",
              "      <td>3.140000e+02</td>\n",
              "      <td>3.140000e+02</td>\n",
              "      <td>3.140000e+02</td>\n",
              "      <td>3.140000e+02</td>\n",
              "      <td>3.140000e+02</td>\n",
              "      <td>3.140000e+02</td>\n",
              "      <td>3.140000e+02</td>\n",
              "      <td>3.140000e+02</td>\n",
              "      <td>3.140000e+02</td>\n",
              "    </tr>\n",
              "    <tr>\n",
              "      <th>mean</th>\n",
              "      <td>2.093159e-16</td>\n",
              "      <td>1.018294e-16</td>\n",
              "      <td>-1.909301e-17</td>\n",
              "      <td>-9.723291e-17</td>\n",
              "      <td>2.688832e-15</td>\n",
              "      <td>9.561531e-16</td>\n",
              "      <td>9.334359e-17</td>\n",
              "      <td>-4.702537e-17</td>\n",
              "      <td>-6.788625e-17</td>\n",
              "    </tr>\n",
              "    <tr>\n",
              "      <th>std</th>\n",
              "      <td>1.000000e+00</td>\n",
              "      <td>1.000000e+00</td>\n",
              "      <td>1.000000e+00</td>\n",
              "      <td>1.000000e+00</td>\n",
              "      <td>1.000000e+00</td>\n",
              "      <td>1.000000e+00</td>\n",
              "      <td>1.000000e+00</td>\n",
              "      <td>1.000000e+00</td>\n",
              "      <td>1.000000e+00</td>\n",
              "    </tr>\n",
              "    <tr>\n",
              "      <th>min</th>\n",
              "      <td>-1.457657e+00</td>\n",
              "      <td>-1.220325e+00</td>\n",
              "      <td>-1.545283e+00</td>\n",
              "      <td>-1.589352e+00</td>\n",
              "      <td>-2.710152e+00</td>\n",
              "      <td>-1.604642e+00</td>\n",
              "      <td>-4.651484e-01</td>\n",
              "      <td>-4.952254e-01</td>\n",
              "      <td>-1.286751e+00</td>\n",
              "    </tr>\n",
              "    <tr>\n",
              "      <th>25%</th>\n",
              "      <td>-8.693480e-01</td>\n",
              "      <td>-8.608943e-01</td>\n",
              "      <td>-7.512407e-01</td>\n",
              "      <td>-8.694784e-01</td>\n",
              "      <td>-6.307245e-01</td>\n",
              "      <td>-7.884578e-01</td>\n",
              "      <td>-4.651484e-01</td>\n",
              "      <td>-4.952254e-01</td>\n",
              "      <td>-1.286751e+00</td>\n",
              "    </tr>\n",
              "    <tr>\n",
              "      <th>50%</th>\n",
              "      <td>-8.693480e-01</td>\n",
              "      <td>-4.247848e-01</td>\n",
              "      <td>-2.721905e-01</td>\n",
              "      <td>-1.987817e-01</td>\n",
              "      <td>-2.123729e-02</td>\n",
              "      <td>2.772599e-02</td>\n",
              "      <td>-4.651484e-01</td>\n",
              "      <td>-4.952254e-01</td>\n",
              "      <td>7.746764e-01</td>\n",
              "    </tr>\n",
              "    <tr>\n",
              "      <th>75%</th>\n",
              "      <td>1.483887e+00</td>\n",
              "      <td>6.750739e-01</td>\n",
              "      <td>6.071620e-01</td>\n",
              "      <td>7.320173e-01</td>\n",
              "      <td>5.882500e-01</td>\n",
              "      <td>8.439098e-01</td>\n",
              "      <td>-4.651484e-01</td>\n",
              "      <td>-4.952254e-01</td>\n",
              "      <td>7.746764e-01</td>\n",
              "    </tr>\n",
              "    <tr>\n",
              "      <th>max</th>\n",
              "      <td>1.483887e+00</td>\n",
              "      <td>2.489002e+00</td>\n",
              "      <td>3.153347e+00</td>\n",
              "      <td>2.547401e+00</td>\n",
              "      <td>3.313017e+00</td>\n",
              "      <td>1.660094e+00</td>\n",
              "      <td>2.143005e+00</td>\n",
              "      <td>2.012852e+00</td>\n",
              "      <td>7.746764e-01</td>\n",
              "    </tr>\n",
              "  </tbody>\n",
              "</table>\n",
              "</div>"
            ],
            "text/plain": [
              "          Cylinders  Displacement  ...  Origin_Japan    Origin_USA\n",
              "count  3.140000e+02  3.140000e+02  ...  3.140000e+02  3.140000e+02\n",
              "mean   2.093159e-16  1.018294e-16  ... -4.702537e-17 -6.788625e-17\n",
              "std    1.000000e+00  1.000000e+00  ...  1.000000e+00  1.000000e+00\n",
              "min   -1.457657e+00 -1.220325e+00  ... -4.952254e-01 -1.286751e+00\n",
              "25%   -8.693480e-01 -8.608943e-01  ... -4.952254e-01 -1.286751e+00\n",
              "50%   -8.693480e-01 -4.247848e-01  ... -4.952254e-01  7.746764e-01\n",
              "75%    1.483887e+00  6.750739e-01  ... -4.952254e-01  7.746764e-01\n",
              "max    1.483887e+00  2.489002e+00  ...  2.012852e+00  7.746764e-01\n",
              "\n",
              "[8 rows x 9 columns]"
            ]
          },
          "metadata": {
            "tags": []
          },
          "execution_count": 86
        }
      ]
    },
    {
      "cell_type": "markdown",
      "metadata": {
        "id": "BuiClDk45eS4",
        "colab_type": "text"
      },
      "source": [
        "This normalized data is what we will use to train the model.\n",
        "\n",
        "Caution: The statistics used to normalize the inputs here (mean and standard deviation) need to be applied to any other data that is fed to the model, along with the one-hot encoding that we did earlier.  That includes the test set as well as live data when the model is used in production."
      ]
    },
    {
      "cell_type": "markdown",
      "metadata": {
        "id": "SmjdzxKzEu1-",
        "colab_type": "text"
      },
      "source": [
        "## The model"
      ]
    },
    {
      "cell_type": "markdown",
      "metadata": {
        "id": "6SWtkIjhrZwa",
        "colab_type": "text"
      },
      "source": [
        "### Build the model\n",
        "\n",
        "Let's build our model. Here, we'll use a `Sequential` model with two densely connected hidden layers, and an output layer that returns a single, continuous value. The model building steps are wrapped in a function, `build_model`, since we'll create a second model, later on."
      ]
    },
    {
      "cell_type": "code",
      "metadata": {
        "id": "c26juK7ZG8j-",
        "colab_type": "code",
        "colab": {}
      },
      "source": [
        "def build_model():\n",
        "  model = keras.Sequential([\n",
        "    layers.Dense(1, activation='linear', input_shape=[len(train_dataset.keys())]),\n",
        "    \n",
        "    #layers.Dense(64, activation='relu'),\n",
        "    #layers.Dense(1)\n",
        "  ])\n",
        "\n",
        "  #optimizer = tf.keras.optimizers.RMSprop(0.001)\n",
        "  optimizer = tf.keras.optimizers.SGD(learning_rate=0.1)\n",
        "\n",
        "  model.compile(loss='mse',\n",
        "                optimizer=optimizer,\n",
        "                metrics=['mae', 'mse'])\n",
        "  return model"
      ],
      "execution_count": null,
      "outputs": []
    },
    {
      "cell_type": "code",
      "metadata": {
        "id": "cGbPb-PHGbhs",
        "colab_type": "code",
        "colab": {}
      },
      "source": [
        "model = build_model()"
      ],
      "execution_count": null,
      "outputs": []
    },
    {
      "cell_type": "markdown",
      "metadata": {
        "id": "Sj49Og4YGULr",
        "colab_type": "text"
      },
      "source": [
        "### Inspect the model\n",
        "\n",
        "Use the `.summary` method to print a simple description of the model"
      ]
    },
    {
      "cell_type": "code",
      "metadata": {
        "id": "ReAD0n6MsFK-",
        "colab_type": "code",
        "colab": {
          "base_uri": "https://localhost:8080/",
          "height": 187
        },
        "outputId": "40474658-1668-4e42-c8db-46f1a6d5b052"
      },
      "source": [
        "model.summary()\n",
        "# y' = w1*x1 + w2*x2... + w0"
      ],
      "execution_count": null,
      "outputs": [
        {
          "output_type": "stream",
          "text": [
            "Model: \"sequential_2\"\n",
            "_________________________________________________________________\n",
            "Layer (type)                 Output Shape              Param #   \n",
            "=================================================================\n",
            "dense_2 (Dense)              (None, 1)                 10        \n",
            "=================================================================\n",
            "Total params: 10\n",
            "Trainable params: 10\n",
            "Non-trainable params: 0\n",
            "_________________________________________________________________\n"
          ],
          "name": "stdout"
        }
      ]
    },
    {
      "cell_type": "markdown",
      "metadata": {
        "id": "Vt6W50qGsJAL",
        "colab_type": "text"
      },
      "source": [
        "Now try out the model. Take a batch of `10` examples from the training data and call `model.predict` on it."
      ]
    },
    {
      "cell_type": "code",
      "metadata": {
        "id": "-d-gBaVtGTSC",
        "colab_type": "code",
        "colab": {
          "base_uri": "https://localhost:8080/",
          "height": 102
        },
        "outputId": "d3cf588d-2d3e-47d1-e101-5c87db91f293"
      },
      "source": [
        "example_batch = normed_train_data[:5]\n",
        "example_result = model.predict(example_batch)\n",
        "example_result"
      ],
      "execution_count": null,
      "outputs": [
        {
          "output_type": "execute_result",
          "data": {
            "text/plain": [
              "array([[-0.25812662],\n",
              "       [ 0.2347278 ],\n",
              "       [-0.35118952],\n",
              "       [-0.6797391 ],\n",
              "       [ 1.8827504 ]], dtype=float32)"
            ]
          },
          "metadata": {
            "tags": []
          },
          "execution_count": 90
        }
      ]
    },
    {
      "cell_type": "markdown",
      "metadata": {
        "id": "QlM8KrSOsaYo",
        "colab_type": "text"
      },
      "source": [
        "It seems to be working, and it produces a result of the expected shape and type."
      ]
    },
    {
      "cell_type": "markdown",
      "metadata": {
        "id": "0-qWCsh6DlyH",
        "colab_type": "text"
      },
      "source": [
        "### Train the model\n",
        "\n",
        "Train the model for 100 epochs, and record the training and validation accuracy in the `history` object."
      ]
    },
    {
      "cell_type": "code",
      "metadata": {
        "id": "sD7qHCmNIOY0",
        "colab_type": "code",
        "colab": {
          "base_uri": "https://localhost:8080/",
          "height": 1000
        },
        "outputId": "9c017180-0357-4ea2-cb96-7feddbe68596"
      },
      "source": [
        "EPOCHS = 100\n",
        "\n",
        "history = model.fit(\n",
        "  normed_train_data, train_labels,\n",
        "  epochs=EPOCHS, validation_split = 0.2, verbose=1,\n",
        "  callbacks=[tfdocs.modeling.EpochDots()])"
      ],
      "execution_count": null,
      "outputs": [
        {
          "output_type": "stream",
          "text": [
            "Epoch 1/100\n",
            "1/8 [==>...........................] - ETA: 0s - loss: 709.1185 - mae: 25.5482 - mse: 709.1185\n",
            "Epoch: 0, loss:224.8108,  mae:12.3618,  mse:224.8108,  val_loss:39.2232,  val_mae:4.7354,  val_mse:39.2232,  \n",
            "8/8 [==============================] - 0s 19ms/step - loss: 224.8108 - mae: 12.3618 - mse: 224.8108 - val_loss: 39.2232 - val_mae: 4.7354 - val_mse: 39.2232\n",
            "Epoch 2/100\n",
            "8/8 [==============================] - 0s 5ms/step - loss: 19.3878 - mae: 3.2968 - mse: 19.3878 - val_loss: 11.7921 - val_mae: 2.6104 - val_mse: 11.7921\n",
            "Epoch 3/100\n",
            "8/8 [==============================] - 0s 5ms/step - loss: 13.1377 - mae: 2.6519 - mse: 13.1377 - val_loss: 10.6459 - val_mae: 2.5262 - val_mse: 10.6459\n",
            "Epoch 4/100\n",
            "8/8 [==============================] - 0s 4ms/step - loss: 13.6585 - mae: 2.8458 - mse: 13.6585 - val_loss: 10.5986 - val_mae: 2.4782 - val_mse: 10.5986\n",
            "Epoch 5/100\n",
            "8/8 [==============================] - 0s 4ms/step - loss: 13.1597 - mae: 2.7482 - mse: 13.1597 - val_loss: 10.5647 - val_mae: 2.4541 - val_mse: 10.5647\n",
            "Epoch 6/100\n",
            "8/8 [==============================] - 0s 4ms/step - loss: 12.8893 - mae: 2.6747 - mse: 12.8893 - val_loss: 10.7022 - val_mae: 2.4864 - val_mse: 10.7022\n",
            "Epoch 7/100\n",
            "8/8 [==============================] - 0s 3ms/step - loss: 12.1229 - mae: 2.5870 - mse: 12.1229 - val_loss: 11.8117 - val_mae: 2.6369 - val_mse: 11.8117\n",
            "Epoch 8/100\n",
            "8/8 [==============================] - 0s 4ms/step - loss: 12.8502 - mae: 2.6865 - mse: 12.8502 - val_loss: 12.4122 - val_mae: 2.7058 - val_mse: 12.4122\n",
            "Epoch 9/100\n",
            "8/8 [==============================] - 0s 4ms/step - loss: 12.8396 - mae: 2.7063 - mse: 12.8396 - val_loss: 10.7172 - val_mae: 2.5100 - val_mse: 10.7172\n",
            "Epoch 10/100\n",
            "8/8 [==============================] - 0s 3ms/step - loss: 12.2718 - mae: 2.6703 - mse: 12.2718 - val_loss: 14.6176 - val_mae: 2.8265 - val_mse: 14.6176\n",
            "Epoch 11/100\n",
            "8/8 [==============================] - 0s 3ms/step - loss: 12.9321 - mae: 2.7005 - mse: 12.9321 - val_loss: 10.9614 - val_mae: 2.4701 - val_mse: 10.9614\n",
            "Epoch 12/100\n",
            "8/8 [==============================] - 0s 4ms/step - loss: 12.0953 - mae: 2.6316 - mse: 12.0953 - val_loss: 10.4114 - val_mae: 2.4543 - val_mse: 10.4114\n",
            "Epoch 13/100\n",
            "8/8 [==============================] - 0s 3ms/step - loss: 12.5307 - mae: 2.6670 - mse: 12.5307 - val_loss: 10.1865 - val_mae: 2.4338 - val_mse: 10.1865\n",
            "Epoch 14/100\n",
            "8/8 [==============================] - 0s 3ms/step - loss: 12.0733 - mae: 2.5962 - mse: 12.0733 - val_loss: 10.4296 - val_mae: 2.4390 - val_mse: 10.4296\n",
            "Epoch 15/100\n",
            "8/8 [==============================] - 0s 3ms/step - loss: 12.0136 - mae: 2.6018 - mse: 12.0136 - val_loss: 10.5272 - val_mae: 2.4341 - val_mse: 10.5272\n",
            "Epoch 16/100\n",
            "8/8 [==============================] - 0s 3ms/step - loss: 12.1714 - mae: 2.6978 - mse: 12.1714 - val_loss: 10.7464 - val_mae: 2.5116 - val_mse: 10.7464\n",
            "Epoch 17/100\n",
            "8/8 [==============================] - 0s 4ms/step - loss: 11.8578 - mae: 2.5850 - mse: 11.8578 - val_loss: 9.9285 - val_mae: 2.4065 - val_mse: 9.9285\n",
            "Epoch 18/100\n",
            "8/8 [==============================] - 0s 4ms/step - loss: 11.7851 - mae: 2.5925 - mse: 11.7851 - val_loss: 10.2252 - val_mae: 2.4593 - val_mse: 10.2252\n",
            "Epoch 19/100\n",
            "8/8 [==============================] - 0s 3ms/step - loss: 11.7637 - mae: 2.6376 - mse: 11.7637 - val_loss: 9.9260 - val_mae: 2.4598 - val_mse: 9.9260\n",
            "Epoch 20/100\n",
            "8/8 [==============================] - 0s 4ms/step - loss: 12.0814 - mae: 2.6393 - mse: 12.0814 - val_loss: 11.0092 - val_mae: 2.5458 - val_mse: 11.0092\n",
            "Epoch 21/100\n",
            "8/8 [==============================] - 0s 4ms/step - loss: 11.6858 - mae: 2.5705 - mse: 11.6858 - val_loss: 10.2805 - val_mae: 2.4190 - val_mse: 10.2805\n",
            "Epoch 22/100\n",
            "8/8 [==============================] - 0s 4ms/step - loss: 12.3834 - mae: 2.6439 - mse: 12.3834 - val_loss: 11.4352 - val_mae: 2.4988 - val_mse: 11.4352\n",
            "Epoch 23/100\n",
            "8/8 [==============================] - 0s 3ms/step - loss: 11.8771 - mae: 2.5553 - mse: 11.8771 - val_loss: 10.4766 - val_mae: 2.4367 - val_mse: 10.4766\n",
            "Epoch 24/100\n",
            "8/8 [==============================] - 0s 3ms/step - loss: 11.7303 - mae: 2.6409 - mse: 11.7303 - val_loss: 10.3551 - val_mae: 2.4507 - val_mse: 10.3551\n",
            "Epoch 25/100\n",
            "8/8 [==============================] - 0s 3ms/step - loss: 12.2434 - mae: 2.6591 - mse: 12.2434 - val_loss: 11.0456 - val_mae: 2.5279 - val_mse: 11.0456\n",
            "Epoch 26/100\n",
            "8/8 [==============================] - 0s 3ms/step - loss: 12.1376 - mae: 2.6115 - mse: 12.1376 - val_loss: 10.2052 - val_mae: 2.4791 - val_mse: 10.2052\n",
            "Epoch 27/100\n",
            "8/8 [==============================] - 0s 4ms/step - loss: 12.5359 - mae: 2.7296 - mse: 12.5359 - val_loss: 10.1770 - val_mae: 2.4661 - val_mse: 10.1770\n",
            "Epoch 28/100\n",
            "8/8 [==============================] - 0s 4ms/step - loss: 12.0315 - mae: 2.6577 - mse: 12.0315 - val_loss: 11.0698 - val_mae: 2.5482 - val_mse: 11.0698\n",
            "Epoch 29/100\n",
            "8/8 [==============================] - 0s 4ms/step - loss: 11.8325 - mae: 2.5902 - mse: 11.8325 - val_loss: 11.0742 - val_mae: 2.5651 - val_mse: 11.0742\n",
            "Epoch 30/100\n",
            "8/8 [==============================] - 0s 4ms/step - loss: 11.9062 - mae: 2.6776 - mse: 11.9062 - val_loss: 10.4385 - val_mae: 2.4824 - val_mse: 10.4385\n",
            "Epoch 31/100\n",
            "8/8 [==============================] - 0s 5ms/step - loss: 13.2222 - mae: 2.7831 - mse: 13.2222 - val_loss: 10.6746 - val_mae: 2.5159 - val_mse: 10.6746\n",
            "Epoch 32/100\n",
            "8/8 [==============================] - 0s 3ms/step - loss: 12.0584 - mae: 2.7165 - mse: 12.0584 - val_loss: 10.7395 - val_mae: 2.5019 - val_mse: 10.7395\n",
            "Epoch 33/100\n",
            "8/8 [==============================] - 0s 4ms/step - loss: 12.1000 - mae: 2.6406 - mse: 12.1000 - val_loss: 10.8724 - val_mae: 2.5305 - val_mse: 10.8724\n",
            "Epoch 34/100\n",
            "8/8 [==============================] - 0s 4ms/step - loss: 11.6790 - mae: 2.5965 - mse: 11.6790 - val_loss: 9.7248 - val_mae: 2.3887 - val_mse: 9.7248\n",
            "Epoch 35/100\n",
            "8/8 [==============================] - 0s 3ms/step - loss: 11.6795 - mae: 2.6130 - mse: 11.6795 - val_loss: 9.9960 - val_mae: 2.4592 - val_mse: 9.9960\n",
            "Epoch 36/100\n",
            "8/8 [==============================] - 0s 3ms/step - loss: 12.1580 - mae: 2.6638 - mse: 12.1580 - val_loss: 10.1473 - val_mae: 2.5008 - val_mse: 10.1473\n",
            "Epoch 37/100\n",
            "8/8 [==============================] - 0s 4ms/step - loss: 12.0468 - mae: 2.6806 - mse: 12.0468 - val_loss: 10.0275 - val_mae: 2.4449 - val_mse: 10.0275\n",
            "Epoch 38/100\n",
            "8/8 [==============================] - 0s 4ms/step - loss: 12.2477 - mae: 2.6663 - mse: 12.2477 - val_loss: 10.7125 - val_mae: 2.5050 - val_mse: 10.7125\n",
            "Epoch 39/100\n",
            "8/8 [==============================] - 0s 4ms/step - loss: 12.2793 - mae: 2.6544 - mse: 12.2793 - val_loss: 10.5584 - val_mae: 2.4812 - val_mse: 10.5584\n",
            "Epoch 40/100\n",
            "8/8 [==============================] - 0s 3ms/step - loss: 11.8632 - mae: 2.6743 - mse: 11.8632 - val_loss: 11.4897 - val_mae: 2.6238 - val_mse: 11.4897\n",
            "Epoch 41/100\n",
            "8/8 [==============================] - 0s 3ms/step - loss: 11.6147 - mae: 2.6003 - mse: 11.6147 - val_loss: 9.7657 - val_mae: 2.3997 - val_mse: 9.7657\n",
            "Epoch 42/100\n",
            "8/8 [==============================] - 0s 3ms/step - loss: 12.0723 - mae: 2.6868 - mse: 12.0723 - val_loss: 10.5701 - val_mae: 2.4598 - val_mse: 10.5701\n",
            "Epoch 43/100\n",
            "8/8 [==============================] - 0s 4ms/step - loss: 11.7571 - mae: 2.5684 - mse: 11.7571 - val_loss: 10.3652 - val_mae: 2.4301 - val_mse: 10.3652\n",
            "Epoch 44/100\n",
            "8/8 [==============================] - 0s 3ms/step - loss: 12.4465 - mae: 2.7180 - mse: 12.4465 - val_loss: 10.4482 - val_mae: 2.4001 - val_mse: 10.4482\n",
            "Epoch 45/100\n",
            "8/8 [==============================] - 0s 4ms/step - loss: 12.1020 - mae: 2.6480 - mse: 12.1020 - val_loss: 10.3251 - val_mae: 2.4825 - val_mse: 10.3251\n",
            "Epoch 46/100\n",
            "8/8 [==============================] - 0s 3ms/step - loss: 12.1537 - mae: 2.6509 - mse: 12.1537 - val_loss: 10.5349 - val_mae: 2.5009 - val_mse: 10.5349\n",
            "Epoch 47/100\n",
            "8/8 [==============================] - 0s 4ms/step - loss: 12.5582 - mae: 2.7336 - mse: 12.5582 - val_loss: 10.3258 - val_mae: 2.4260 - val_mse: 10.3258\n",
            "Epoch 48/100\n",
            "8/8 [==============================] - 0s 3ms/step - loss: 12.1417 - mae: 2.6518 - mse: 12.1417 - val_loss: 11.5205 - val_mae: 2.5788 - val_mse: 11.5205\n",
            "Epoch 49/100\n",
            "8/8 [==============================] - 0s 4ms/step - loss: 11.9228 - mae: 2.6179 - mse: 11.9228 - val_loss: 10.2671 - val_mae: 2.4668 - val_mse: 10.2671\n",
            "Epoch 50/100\n",
            "8/8 [==============================] - 0s 4ms/step - loss: 11.8061 - mae: 2.6118 - mse: 11.8061 - val_loss: 9.8845 - val_mae: 2.4474 - val_mse: 9.8845\n",
            "Epoch 51/100\n",
            "8/8 [==============================] - 0s 4ms/step - loss: 11.6127 - mae: 2.5928 - mse: 11.6127 - val_loss: 10.8657 - val_mae: 2.5283 - val_mse: 10.8657\n",
            "Epoch 52/100\n",
            "8/8 [==============================] - 0s 3ms/step - loss: 11.6143 - mae: 2.6241 - mse: 11.6143 - val_loss: 10.6202 - val_mae: 2.4288 - val_mse: 10.6202\n",
            "Epoch 53/100\n",
            "8/8 [==============================] - 0s 4ms/step - loss: 12.4857 - mae: 2.7100 - mse: 12.4857 - val_loss: 10.5777 - val_mae: 2.5324 - val_mse: 10.5777\n",
            "Epoch 54/100\n",
            "8/8 [==============================] - 0s 4ms/step - loss: 12.4602 - mae: 2.7185 - mse: 12.4602 - val_loss: 10.5037 - val_mae: 2.5210 - val_mse: 10.5037\n",
            "Epoch 55/100\n",
            "8/8 [==============================] - 0s 4ms/step - loss: 12.4230 - mae: 2.6714 - mse: 12.4230 - val_loss: 10.2451 - val_mae: 2.4360 - val_mse: 10.2451\n",
            "Epoch 56/100\n",
            "8/8 [==============================] - 0s 3ms/step - loss: 11.6969 - mae: 2.6372 - mse: 11.6969 - val_loss: 12.6945 - val_mae: 2.6928 - val_mse: 12.6945\n",
            "Epoch 57/100\n",
            "8/8 [==============================] - 0s 4ms/step - loss: 11.8733 - mae: 2.6649 - mse: 11.8733 - val_loss: 9.9384 - val_mae: 2.4051 - val_mse: 9.9384\n",
            "Epoch 58/100\n",
            "8/8 [==============================] - 0s 3ms/step - loss: 12.8909 - mae: 2.7724 - mse: 12.8909 - val_loss: 11.8462 - val_mae: 2.6272 - val_mse: 11.8462\n",
            "Epoch 59/100\n",
            "8/8 [==============================] - 0s 3ms/step - loss: 12.0234 - mae: 2.6655 - mse: 12.0234 - val_loss: 11.2996 - val_mae: 2.5506 - val_mse: 11.2996\n",
            "Epoch 60/100\n",
            "8/8 [==============================] - 0s 4ms/step - loss: 12.3059 - mae: 2.6772 - mse: 12.3059 - val_loss: 13.1711 - val_mae: 2.6775 - val_mse: 13.1711\n",
            "Epoch 61/100\n",
            "8/8 [==============================] - 0s 4ms/step - loss: 12.1424 - mae: 2.7122 - mse: 12.1424 - val_loss: 12.1515 - val_mae: 2.6435 - val_mse: 12.1515\n",
            "Epoch 62/100\n",
            "8/8 [==============================] - 0s 5ms/step - loss: 12.2813 - mae: 2.6852 - mse: 12.2813 - val_loss: 9.8368 - val_mae: 2.4447 - val_mse: 9.8368\n",
            "Epoch 63/100\n",
            "8/8 [==============================] - 0s 3ms/step - loss: 12.5277 - mae: 2.7089 - mse: 12.5277 - val_loss: 9.9303 - val_mae: 2.4383 - val_mse: 9.9303\n",
            "Epoch 64/100\n",
            "8/8 [==============================] - 0s 4ms/step - loss: 12.0556 - mae: 2.6472 - mse: 12.0556 - val_loss: 10.1165 - val_mae: 2.4439 - val_mse: 10.1165\n",
            "Epoch 65/100\n",
            "8/8 [==============================] - 0s 4ms/step - loss: 11.9672 - mae: 2.6395 - mse: 11.9672 - val_loss: 10.1796 - val_mae: 2.4594 - val_mse: 10.1796\n",
            "Epoch 66/100\n",
            "8/8 [==============================] - 0s 4ms/step - loss: 11.7551 - mae: 2.6137 - mse: 11.7551 - val_loss: 10.2515 - val_mae: 2.4679 - val_mse: 10.2515\n",
            "Epoch 67/100\n",
            "8/8 [==============================] - 0s 3ms/step - loss: 12.0883 - mae: 2.6896 - mse: 12.0883 - val_loss: 10.0610 - val_mae: 2.4416 - val_mse: 10.0610\n",
            "Epoch 68/100\n",
            "8/8 [==============================] - 0s 4ms/step - loss: 11.5394 - mae: 2.6069 - mse: 11.5394 - val_loss: 10.1503 - val_mae: 2.4434 - val_mse: 10.1503\n",
            "Epoch 69/100\n",
            "8/8 [==============================] - 0s 3ms/step - loss: 11.5989 - mae: 2.6384 - mse: 11.5989 - val_loss: 10.7140 - val_mae: 2.5021 - val_mse: 10.7140\n",
            "Epoch 70/100\n",
            "8/8 [==============================] - 0s 4ms/step - loss: 11.9155 - mae: 2.6233 - mse: 11.9155 - val_loss: 10.3488 - val_mae: 2.4316 - val_mse: 10.3488\n",
            "Epoch 71/100\n",
            "8/8 [==============================] - 0s 4ms/step - loss: 11.8022 - mae: 2.6498 - mse: 11.8022 - val_loss: 10.2729 - val_mae: 2.3967 - val_mse: 10.2729\n",
            "Epoch 72/100\n",
            "8/8 [==============================] - 0s 3ms/step - loss: 11.9509 - mae: 2.6517 - mse: 11.9509 - val_loss: 10.5392 - val_mae: 2.4869 - val_mse: 10.5392\n",
            "Epoch 73/100\n",
            "8/8 [==============================] - 0s 4ms/step - loss: 11.7342 - mae: 2.6422 - mse: 11.7342 - val_loss: 9.6727 - val_mae: 2.4112 - val_mse: 9.6727\n",
            "Epoch 74/100\n",
            "8/8 [==============================] - 0s 3ms/step - loss: 11.7216 - mae: 2.6598 - mse: 11.7216 - val_loss: 10.0661 - val_mae: 2.4211 - val_mse: 10.0661\n",
            "Epoch 75/100\n",
            "8/8 [==============================] - 0s 3ms/step - loss: 11.6274 - mae: 2.6082 - mse: 11.6274 - val_loss: 10.1489 - val_mae: 2.4017 - val_mse: 10.1489\n",
            "Epoch 76/100\n",
            "8/8 [==============================] - 0s 3ms/step - loss: 12.4364 - mae: 2.7337 - mse: 12.4364 - val_loss: 10.6304 - val_mae: 2.4803 - val_mse: 10.6304\n",
            "Epoch 77/100\n",
            "8/8 [==============================] - 0s 4ms/step - loss: 11.9720 - mae: 2.6840 - mse: 11.9720 - val_loss: 10.4340 - val_mae: 2.4985 - val_mse: 10.4340\n",
            "Epoch 78/100\n",
            "8/8 [==============================] - 0s 3ms/step - loss: 11.7520 - mae: 2.6142 - mse: 11.7520 - val_loss: 10.0140 - val_mae: 2.4681 - val_mse: 10.0140\n",
            "Epoch 79/100\n",
            "8/8 [==============================] - 0s 4ms/step - loss: 12.1054 - mae: 2.7047 - mse: 12.1054 - val_loss: 9.7833 - val_mae: 2.4216 - val_mse: 9.7833\n",
            "Epoch 80/100\n",
            "8/8 [==============================] - 0s 4ms/step - loss: 11.8265 - mae: 2.6179 - mse: 11.8265 - val_loss: 9.6502 - val_mae: 2.3991 - val_mse: 9.6502\n",
            "Epoch 81/100\n",
            "8/8 [==============================] - 0s 4ms/step - loss: 11.7542 - mae: 2.6259 - mse: 11.7542 - val_loss: 10.2996 - val_mae: 2.4665 - val_mse: 10.2996\n",
            "Epoch 82/100\n",
            "8/8 [==============================] - 0s 3ms/step - loss: 11.5862 - mae: 2.5720 - mse: 11.5862 - val_loss: 10.4285 - val_mae: 2.4846 - val_mse: 10.4285\n",
            "Epoch 83/100\n",
            "8/8 [==============================] - 0s 4ms/step - loss: 12.0496 - mae: 2.6895 - mse: 12.0496 - val_loss: 9.9815 - val_mae: 2.4499 - val_mse: 9.9815\n",
            "Epoch 84/100\n",
            "8/8 [==============================] - 0s 3ms/step - loss: 11.8443 - mae: 2.6445 - mse: 11.8443 - val_loss: 10.1500 - val_mae: 2.4431 - val_mse: 10.1500\n",
            "Epoch 85/100\n",
            "8/8 [==============================] - 0s 3ms/step - loss: 11.9841 - mae: 2.6528 - mse: 11.9841 - val_loss: 9.8411 - val_mae: 2.4158 - val_mse: 9.8411\n",
            "Epoch 86/100\n",
            "8/8 [==============================] - 0s 3ms/step - loss: 11.6994 - mae: 2.6008 - mse: 11.6994 - val_loss: 10.1815 - val_mae: 2.4992 - val_mse: 10.1815\n",
            "Epoch 87/100\n",
            "8/8 [==============================] - 0s 3ms/step - loss: 11.6297 - mae: 2.6434 - mse: 11.6297 - val_loss: 11.9114 - val_mae: 2.6132 - val_mse: 11.9114\n",
            "Epoch 88/100\n",
            "8/8 [==============================] - 0s 4ms/step - loss: 12.2150 - mae: 2.6783 - mse: 12.2150 - val_loss: 10.5872 - val_mae: 2.4975 - val_mse: 10.5872\n",
            "Epoch 89/100\n",
            "8/8 [==============================] - 0s 3ms/step - loss: 11.7173 - mae: 2.6595 - mse: 11.7173 - val_loss: 11.1197 - val_mae: 2.5563 - val_mse: 11.1197\n",
            "Epoch 90/100\n",
            "8/8 [==============================] - 0s 4ms/step - loss: 11.6654 - mae: 2.6233 - mse: 11.6654 - val_loss: 9.9864 - val_mae: 2.4271 - val_mse: 9.9864\n",
            "Epoch 91/100\n",
            "8/8 [==============================] - 0s 3ms/step - loss: 11.8812 - mae: 2.6463 - mse: 11.8812 - val_loss: 11.5825 - val_mae: 2.5573 - val_mse: 11.5825\n",
            "Epoch 92/100\n",
            "8/8 [==============================] - 0s 3ms/step - loss: 11.7712 - mae: 2.6153 - mse: 11.7712 - val_loss: 12.5170 - val_mae: 2.6373 - val_mse: 12.5170\n",
            "Epoch 93/100\n",
            "8/8 [==============================] - 0s 4ms/step - loss: 12.3761 - mae: 2.6730 - mse: 12.3761 - val_loss: 10.6366 - val_mae: 2.4936 - val_mse: 10.6366\n",
            "Epoch 94/100\n",
            "8/8 [==============================] - 0s 4ms/step - loss: 11.8868 - mae: 2.6433 - mse: 11.8868 - val_loss: 10.6717 - val_mae: 2.5071 - val_mse: 10.6717\n",
            "Epoch 95/100\n",
            "8/8 [==============================] - 0s 4ms/step - loss: 11.6938 - mae: 2.6217 - mse: 11.6938 - val_loss: 10.0926 - val_mae: 2.4094 - val_mse: 10.0926\n",
            "Epoch 96/100\n",
            "8/8 [==============================] - 0s 3ms/step - loss: 12.2446 - mae: 2.6418 - mse: 12.2446 - val_loss: 10.7744 - val_mae: 2.5588 - val_mse: 10.7744\n",
            "Epoch 97/100\n",
            "8/8 [==============================] - 0s 3ms/step - loss: 12.3983 - mae: 2.6876 - mse: 12.3983 - val_loss: 10.2903 - val_mae: 2.4711 - val_mse: 10.2903\n",
            "Epoch 98/100\n",
            "8/8 [==============================] - 0s 4ms/step - loss: 11.7187 - mae: 2.6255 - mse: 11.7187 - val_loss: 10.1524 - val_mae: 2.4419 - val_mse: 10.1524\n",
            "Epoch 99/100\n",
            "8/8 [==============================] - 0s 4ms/step - loss: 11.6733 - mae: 2.6313 - mse: 11.6733 - val_loss: 9.8029 - val_mae: 2.4229 - val_mse: 9.8029\n",
            "Epoch 100/100\n",
            "8/8 [==============================] - 0s 3ms/step - loss: 12.6561 - mae: 2.7510 - mse: 12.6561 - val_loss: 11.1598 - val_mae: 2.5605 - val_mse: 11.1598\n"
          ],
          "name": "stdout"
        }
      ]
    },
    {
      "cell_type": "markdown",
      "metadata": {
        "id": "tQm3pc0FYPQB",
        "colab_type": "text"
      },
      "source": [
        "Visualize the model's training progress using the stats stored in the `history` object."
      ]
    },
    {
      "cell_type": "code",
      "metadata": {
        "id": "4Xj91b-dymEy",
        "colab_type": "code",
        "colab": {
          "base_uri": "https://localhost:8080/",
          "height": 204
        },
        "outputId": "142f90e0-e984-4eb0-8f61-385ac202edaf"
      },
      "source": [
        "hist = pd.DataFrame(history.history)\n",
        "hist['epoch'] = history.epoch\n",
        "hist.tail()"
      ],
      "execution_count": null,
      "outputs": [
        {
          "output_type": "execute_result",
          "data": {
            "text/html": [
              "<div>\n",
              "<style scoped>\n",
              "    .dataframe tbody tr th:only-of-type {\n",
              "        vertical-align: middle;\n",
              "    }\n",
              "\n",
              "    .dataframe tbody tr th {\n",
              "        vertical-align: top;\n",
              "    }\n",
              "\n",
              "    .dataframe thead th {\n",
              "        text-align: right;\n",
              "    }\n",
              "</style>\n",
              "<table border=\"1\" class=\"dataframe\">\n",
              "  <thead>\n",
              "    <tr style=\"text-align: right;\">\n",
              "      <th></th>\n",
              "      <th>loss</th>\n",
              "      <th>mae</th>\n",
              "      <th>mse</th>\n",
              "      <th>val_loss</th>\n",
              "      <th>val_mae</th>\n",
              "      <th>val_mse</th>\n",
              "      <th>epoch</th>\n",
              "    </tr>\n",
              "  </thead>\n",
              "  <tbody>\n",
              "    <tr>\n",
              "      <th>95</th>\n",
              "      <td>12.244594</td>\n",
              "      <td>2.641790</td>\n",
              "      <td>12.244594</td>\n",
              "      <td>10.774416</td>\n",
              "      <td>2.558844</td>\n",
              "      <td>10.774416</td>\n",
              "      <td>95</td>\n",
              "    </tr>\n",
              "    <tr>\n",
              "      <th>96</th>\n",
              "      <td>12.398348</td>\n",
              "      <td>2.687645</td>\n",
              "      <td>12.398348</td>\n",
              "      <td>10.290311</td>\n",
              "      <td>2.471147</td>\n",
              "      <td>10.290311</td>\n",
              "      <td>96</td>\n",
              "    </tr>\n",
              "    <tr>\n",
              "      <th>97</th>\n",
              "      <td>11.718738</td>\n",
              "      <td>2.625523</td>\n",
              "      <td>11.718738</td>\n",
              "      <td>10.152436</td>\n",
              "      <td>2.441912</td>\n",
              "      <td>10.152436</td>\n",
              "      <td>97</td>\n",
              "    </tr>\n",
              "    <tr>\n",
              "      <th>98</th>\n",
              "      <td>11.673317</td>\n",
              "      <td>2.631344</td>\n",
              "      <td>11.673317</td>\n",
              "      <td>9.802947</td>\n",
              "      <td>2.422892</td>\n",
              "      <td>9.802947</td>\n",
              "      <td>98</td>\n",
              "    </tr>\n",
              "    <tr>\n",
              "      <th>99</th>\n",
              "      <td>12.656088</td>\n",
              "      <td>2.750984</td>\n",
              "      <td>12.656088</td>\n",
              "      <td>11.159766</td>\n",
              "      <td>2.560488</td>\n",
              "      <td>11.159766</td>\n",
              "      <td>99</td>\n",
              "    </tr>\n",
              "  </tbody>\n",
              "</table>\n",
              "</div>"
            ],
            "text/plain": [
              "         loss       mae        mse   val_loss   val_mae    val_mse  epoch\n",
              "95  12.244594  2.641790  12.244594  10.774416  2.558844  10.774416     95\n",
              "96  12.398348  2.687645  12.398348  10.290311  2.471147  10.290311     96\n",
              "97  11.718738  2.625523  11.718738  10.152436  2.441912  10.152436     97\n",
              "98  11.673317  2.631344  11.673317   9.802947  2.422892   9.802947     98\n",
              "99  12.656088  2.750984  12.656088  11.159766  2.560488  11.159766     99"
            ]
          },
          "metadata": {
            "tags": []
          },
          "execution_count": 92
        }
      ]
    },
    {
      "cell_type": "code",
      "metadata": {
        "id": "czYtZS9A6D-X",
        "colab_type": "code",
        "colab": {}
      },
      "source": [
        "plotter = tfdocs.plots.HistoryPlotter(smoothing_std=2)"
      ],
      "execution_count": null,
      "outputs": []
    },
    {
      "cell_type": "code",
      "metadata": {
        "id": "nMCWKskbUTvG",
        "colab_type": "code",
        "colab": {
          "base_uri": "https://localhost:8080/",
          "height": 300
        },
        "outputId": "4bae4184-e880-48ff-8596-3b0e4ca17abd"
      },
      "source": [
        "plotter.plot({'Basic': history}, metric = \"mae\")\n",
        "plt.ylim([0, 10])\n",
        "plt.ylabel('MAE [MPG]')"
      ],
      "execution_count": null,
      "outputs": [
        {
          "output_type": "execute_result",
          "data": {
            "text/plain": [
              "Text(0, 0.5, 'MAE [MPG]')"
            ]
          },
          "metadata": {
            "tags": []
          },
          "execution_count": 94
        },
        {
          "output_type": "display_data",
          "data": {
            "image/png": "[encoded data removed]",
            "text/plain": [
              "<Figure size 432x288 with 1 Axes>"
            ]
          },
          "metadata": {
            "tags": [],
            "needs_background": "light"
          }
        }
      ]
    },
    {
      "cell_type": "code",
      "metadata": {
        "id": "N9u74b1tXMd9",
        "colab_type": "code",
        "colab": {
          "base_uri": "https://localhost:8080/",
          "height": 300
        },
        "outputId": "cdc8ae7a-59e2-44c5-f167-b7efae3f6427"
      },
      "source": [
        "plotter.plot({'Basic': history}, metric = \"mse\")\n",
        "plt.ylim([0, 20])\n",
        "plt.ylabel('MSE [MPG^2]')"
      ],
      "execution_count": null,
      "outputs": [
        {
          "output_type": "execute_result",
          "data": {
            "text/plain": [
              "Text(0, 0.5, 'MSE [MPG^2]')"
            ]
          },
          "metadata": {
            "tags": []
          },
          "execution_count": 95
        },
        {
          "output_type": "display_data",
          "data": {
            "image/png": "[encoded data removed]",
            "text/plain": [
              "<Figure size 432x288 with 1 Axes>"
            ]
          },
          "metadata": {
            "tags": [],
            "needs_background": "light"
          }
        }
      ]
    },
    {
      "cell_type": "markdown",
      "metadata": {
        "id": "AqsuANc11FYv",
        "colab_type": "text"
      },
      "source": [
        "This graph shows little improvement, or even degradation in the validation error after about 100 epochs. Let's update the `model.fit` call to automatically stop training when the validation score doesn't improve. We'll use an *EarlyStopping callback* that tests a training condition for  every epoch. If a set amount of epochs elapses without showing improvement, then automatically stop the training.\n",
        "\n",
        "You can learn more about this callback [here](https://www.tensorflow.org/api_docs/python/tf/keras/callbacks/EarlyStopping)."
      ]
    },
    {
      "cell_type": "code",
      "metadata": {
        "id": "fdMZuhUgzMZ4",
        "colab_type": "code",
        "colab": {
          "base_uri": "https://localhost:8080/",
          "height": 88
        },
        "outputId": "e33242e8-9e5e-4d8f-a8ae-b0a548ad59ba"
      },
      "source": [
        "model = build_model()\n",
        "\n",
        "# The patience parameter is the amount of epochs to check for improvement\n",
        "early_stop = keras.callbacks.EarlyStopping(monitor='val_loss', patience=10)\n",
        "\n",
        "early_history = model.fit(normed_train_data, train_labels, \n",
        "                    epochs=EPOCHS, validation_split = 0.2, verbose=0, \n",
        "                    callbacks=[early_stop, tfdocs.modeling.EpochDots()])"
      ],
      "execution_count": null,
      "outputs": [
        {
          "output_type": "stream",
          "text": [
            "\n",
            "Epoch: 0, loss:233.7411,  mae:12.6093,  mse:233.7411,  val_loss:38.6288,  val_mae:4.6797,  val_mse:38.6288,  \n",
            ".................."
          ],
          "name": "stdout"
        }
      ]
    },
    {
      "cell_type": "code",
      "metadata": {
        "id": "LcopvQh3X-kX",
        "colab_type": "code",
        "colab": {
          "base_uri": "https://localhost:8080/",
          "height": 300
        },
        "outputId": "a683f246-8083-411f-c8ec-82ca3399a638"
      },
      "source": [
        "plotter.plot({'Early Stopping': early_history}, metric = \"mae\")\n",
        "plt.ylim([0, 10])\n",
        "plt.ylabel('MAE [MPG]')"
      ],
      "execution_count": null,
      "outputs": [
        {
          "output_type": "execute_result",
          "data": {
            "text/plain": [
              "Text(0, 0.5, 'MAE [MPG]')"
            ]
          },
          "metadata": {
            "tags": []
          },
          "execution_count": 97
        },
        {
          "output_type": "display_data",
          "data": {
            "image/png": "[encoded data removed]",
            "text/plain": [
              "<Figure size 432x288 with 1 Axes>"
            ]
          },
          "metadata": {
            "tags": [],
            "needs_background": "light"
          }
        }
      ]
    },
    {
      "cell_type": "markdown",
      "metadata": {
        "id": "3St8-DmrX8P4",
        "colab_type": "text"
      },
      "source": [
        "The graph shows that on the validation set, the average error is usually around +/- 2 MPG. Is this good? We'll leave that decision up to you.\n",
        "\n",
        "Let's see how well the model generalizes by using the **test** set, which we did not use when training the model.  This tells us how well we can expect the model to predict when we use it in the real world."
      ]
    },
    {
      "cell_type": "code",
      "metadata": {
        "id": "jl_yNr5n1kms",
        "colab_type": "code",
        "colab": {
          "base_uri": "https://localhost:8080/",
          "height": 51
        },
        "outputId": "84a1928f-3262-4b40-a545-55da8c08805f"
      },
      "source": [
        "loss, mae, mse = model.evaluate(normed_test_data, test_labels, verbose=2)\n",
        "\n",
        "print(\"Testing set Mean Abs Error: {:5.2f} MPG\".format(mae))"
      ],
      "execution_count": null,
      "outputs": [
        {
          "output_type": "stream",
          "text": [
            "3/3 - 0s - loss: 11.1900 - mae: 2.5517 - mse: 11.1900\n",
            "Testing set Mean Abs Error:  2.55 MPG\n"
          ],
          "name": "stdout"
        }
      ]
    },
    {
      "cell_type": "markdown",
      "metadata": {
        "id": "ft603OzXuEZC",
        "colab_type": "text"
      },
      "source": [
        "### Make predictions\n",
        "\n",
        "Finally, predict MPG values using data in the testing set:"
      ]
    },
    {
      "cell_type": "code",
      "metadata": {
        "id": "Xe7RXH3N3CWU",
        "colab_type": "code",
        "colab": {
          "base_uri": "https://localhost:8080/",
          "height": 283
        },
        "outputId": "d1ea67f0-0add-4cdc-bb51-7b1c069deef9"
      },
      "source": [
        "test_predictions = model.predict(normed_test_data).flatten()\n",
        "\n",
        "a = plt.axes(aspect='equal')\n",
        "plt.scatter(test_labels, test_predictions)\n",
        "plt.xlabel('True Values [MPG]')\n",
        "plt.ylabel('Predictions [MPG]')\n",
        "lims = [0, 50]\n",
        "plt.xlim(lims)\n",
        "plt.ylim(lims)\n",
        "_ = plt.plot(lims, lims)\n"
      ],
      "execution_count": null,
      "outputs": [
        {
          "output_type": "display_data",
          "data": {
            "image/png": "[encoded data removed]",
            "text/plain": [
              "<Figure size 432x288 with 1 Axes>"
            ]
          },
          "metadata": {
            "tags": [],
            "needs_background": "light"
          }
        }
      ]
    },
    {
      "cell_type": "markdown",
      "metadata": {
        "id": "19wyogbOSU5t",
        "colab_type": "text"
      },
      "source": [
        "It looks like our model predicts reasonably well. Let's take a look at the error distribution."
      ]
    },
    {
      "cell_type": "code",
      "metadata": {
        "id": "f-OHX4DiXd8x",
        "colab_type": "code",
        "colab": {
          "base_uri": "https://localhost:8080/",
          "height": 279
        },
        "outputId": "271d35f8-39f9-4e92-db48-9ef1b99ebfab"
      },
      "source": [
        "error = test_predictions - test_labels\n",
        "plt.hist(error, bins = 25)\n",
        "plt.xlabel(\"Prediction Error [MPG]\")\n",
        "_ = plt.ylabel(\"Count\")"
      ],
      "execution_count": null,
      "outputs": [
        {
          "output_type": "display_data",
          "data": {
            "image/png": "[encoded data removed]",
            "text/plain": [
              "<Figure size 432x288 with 1 Axes>"
            ]
          },
          "metadata": {
            "tags": [],
            "needs_background": "light"
          }
        }
      ]
    },
    {
      "cell_type": "markdown",
      "metadata": {
        "id": "m0CB5tBjSU5w",
        "colab_type": "text"
      },
      "source": [
        "It's not quite gaussian, but we might expect that because the number of samples is very small."
      ]
    },
    {
      "cell_type": "markdown",
      "metadata": {
        "id": "vgGQuV-yqYZH",
        "colab_type": "text"
      },
      "source": [
        "## Conclusion\n",
        "\n",
        "This notebook introduced a few techniques to handle a regression problem.\n",
        "\n",
        "* Mean Squared Error (MSE) is a common loss function used for regression problems (different loss functions are used for classification problems).\n",
        "* Similarly, evaluation metrics used for regression differ from classification. A common regression metric is Mean Absolute Error (MAE).\n",
        "* When numeric input data features have values with different ranges, each feature should be scaled independently to the same range.\n",
        "* If there is not much training data, one technique is to prefer a small network with few hidden layers to avoid overfitting.\n",
        "* Early stopping is a useful technique to prevent overfitting."
      ]
    }
  ]
}